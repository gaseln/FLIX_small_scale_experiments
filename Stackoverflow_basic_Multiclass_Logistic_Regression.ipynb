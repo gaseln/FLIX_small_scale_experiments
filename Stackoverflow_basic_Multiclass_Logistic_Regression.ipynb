{
 "cells": [
  {
   "cell_type": "markdown",
   "metadata": {},
   "source": [
    "# Importing packages"
   ]
  },
  {
   "cell_type": "code",
   "execution_count": 1,
   "metadata": {},
   "outputs": [
    {
     "name": "stdout",
     "output_type": "stream",
     "text": [
      "INFO:tensorflow:Enabling eager execution\n",
      "INFO:tensorflow:Enabling v2 tensorshape\n",
      "INFO:tensorflow:Enabling resource variables\n",
      "INFO:tensorflow:Enabling tensor equality\n",
      "INFO:tensorflow:Enabling control flow v2\n"
     ]
    }
   ],
   "source": [
    "from workers import MasterNode\n",
    "from models import MulticlassLogReg\n",
    "from utils import read_run, get_alg, create_plot_dir, PLOT_PATH\n",
    "from sklearn.datasets import dump_svmlight_file\n",
    "\n",
    "import matplotlib as mpl\n",
    "import pandas as pd\n",
    "import matplotlib.pyplot as plt\n",
    "import numpy as np\n",
    "from prep_data import number_of_features, load_data_npy\n",
    "import math\n",
    "import torch\n",
    "from torch import nn\n",
    "import torch.nn.functional as F\n",
    "from tensorflow.keras.metrics import Recall\n",
    "\n",
    "from numpy.random import default_rng\n",
    "from numpy import linalg as la\n",
    "from prep_data import DATASET_PATH\n",
    "import copy\n",
    "import pickle\n",
    "import sys\n",
    "from multiprocessing import Process\n",
    "import time\n",
    "import matplotlib as mtl\n",
    "\n",
    "from models import Node"
   ]
  },
  {
   "cell_type": "markdown",
   "metadata": {},
   "source": [
    "# Customizing Matplotlib"
   ]
  },
  {
   "cell_type": "code",
   "execution_count": 2,
   "metadata": {},
   "outputs": [],
   "source": [
    "plt.style.use('fast')\n",
    "mpl.rcParams['mathtext.fontset'] = 'cm'\n",
    "# mpl.rcParams['mathtext.fontset'] = 'dejavusans'\n",
    "mpl.rcParams['pdf.fonttype'] = 42\n",
    "mpl.rcParams['ps.fonttype'] = 42\n",
    "mpl.rcParams['lines.linewidth'] = 2.0\n",
    "mpl.rcParams['legend.fontsize'] = 'large'\n",
    "mpl.rcParams['axes.titlesize'] = 'xx-large'\n",
    "mpl.rcParams['xtick.labelsize'] = 'x-large'\n",
    "mpl.rcParams['ytick.labelsize'] = 'x-large'\n",
    "mpl.rcParams['axes.labelsize'] = 'xx-large'"
   ]
  },
  {
   "cell_type": "code",
   "execution_count": 3,
   "metadata": {},
   "outputs": [],
   "source": [
    "markers = ['x', '.', '+', '1', 'p','*', 'D' , '.',  's']"
   ]
  },
  {
   "cell_type": "code",
   "execution_count": 4,
   "metadata": {},
   "outputs": [],
   "source": [
    "MODELS_PATH = 'models/'"
   ]
  },
  {
   "cell_type": "markdown",
   "metadata": {},
   "source": [
    "# Basic experimental setup"
   ]
  },
  {
   "cell_type": "code",
   "execution_count": 5,
   "metadata": {},
   "outputs": [],
   "source": [
    "exp_keyword = 'SO_LR_one_cluster_50'"
   ]
  },
  {
   "cell_type": "code",
   "execution_count": 266,
   "metadata": {},
   "outputs": [
    {
     "data": {
      "text/plain": [
       "'SO_LR_one_cluster_50'"
      ]
     },
     "execution_count": 266,
     "metadata": {},
     "output_type": "execute_result"
    }
   ],
   "source": [
    "exp_keyword"
   ]
  },
  {
   "cell_type": "code",
   "execution_count": 6,
   "metadata": {},
   "outputs": [],
   "source": [
    "dataset_name = exp_keyword + '.npz'"
   ]
  },
  {
   "cell_type": "code",
   "execution_count": 7,
   "metadata": {},
   "outputs": [],
   "source": [
    "n_workers = 50"
   ]
  },
  {
   "cell_type": "code",
   "execution_count": 8,
   "metadata": {},
   "outputs": [],
   "source": [
    "alpha = 0.5\n",
    "worker = MulticlassLogReg\n",
    "logreg = True\n",
    "multilabel = True\n",
    "d_y = 500\n",
    "regularization = 0\n",
    "tolerance = 1e-2\n",
    "val_rat = 0.2\n",
    "validation = True\n",
    "compute_smoothness_min = False\n",
    "npz = True\n",
    "max_it = 1"
   ]
  },
  {
   "cell_type": "code",
   "execution_count": 9,
   "metadata": {},
   "outputs": [],
   "source": [
    "mixed_model = MasterNode(n_workers, \n",
    "                         alpha, \n",
    "                         worker, \n",
    "                         dataset_name, \n",
    "                         logreg, \n",
    "                         max_it=max_it,                         \n",
    "                         compute_smoothness_min=compute_smoothness_min,\n",
    "                         validation=validation,\n",
    "                         val_rat=val_rat,\n",
    "                         multilabel=multilabel, \n",
    "                         d_y=d_y, \n",
    "                         regularization=regularization,\n",
    "                         tolerance=tolerance,\n",
    "                         npz=npz)"
   ]
  },
  {
   "cell_type": "code",
   "execution_count": 10,
   "metadata": {},
   "outputs": [
    {
     "data": {
      "text/plain": [
       "5000500"
      ]
     },
     "execution_count": 10,
     "metadata": {},
     "output_type": "execute_result"
    }
   ],
   "source": [
    "mixed_model.d"
   ]
  },
  {
   "cell_type": "code",
   "execution_count": 11,
   "metadata": {},
   "outputs": [
    {
     "data": {
      "text/plain": [
       "numpy.ndarray"
      ]
     },
     "execution_count": 11,
     "metadata": {},
     "output_type": "execute_result"
    }
   ],
   "source": [
    "type(mixed_model.workers[0].x_train)"
   ]
  },
  {
   "cell_type": "code",
   "execution_count": 12,
   "metadata": {},
   "outputs": [
    {
     "data": {
      "text/plain": [
       "numpy.ndarray"
      ]
     },
     "execution_count": 12,
     "metadata": {},
     "output_type": "execute_result"
    }
   ],
   "source": [
    "type(mixed_model.workers[0].y_train)"
   ]
  },
  {
   "cell_type": "markdown",
   "metadata": {},
   "source": [
    "Let us check the label distribution is \"fine\"."
   ]
  },
  {
   "cell_type": "code",
   "execution_count": 13,
   "metadata": {},
   "outputs": [],
   "source": [
    "y_all = np.empty(shape=(0, 500))\n",
    "for i in range(mixed_model.n_workers):\n",
    "    y_all = np.vstack([y_all, mixed_model.workers[i].y_train])"
   ]
  },
  {
   "cell_type": "code",
   "execution_count": 14,
   "metadata": {},
   "outputs": [
    {
     "data": {
      "text/plain": [
       "array([476., 175., 427., 203., 143., 138.,  33.,  79., 136., 482., 140.,\n",
       "        47., 140.,  42.,  49.,  51.,  43.,  59., 259., 166., 113.,  63.,\n",
       "        24.,  51.,  55.,  63., 148.,  76.,  22.,  21., 148.,  47.,  21.,\n",
       "        39.,  16.,  37.,  28.,  35.,  32.,  26.,  11.,  17.,  15.,  23.,\n",
       "        18.,  11.,  47.,  15.,  50.,  17.,  69.,  17.,  17.,  47.,  31.,\n",
       "        14.,  33.,  39.,  18.,  56.,  24.,  21.,  33., 107.,  21.,   6.,\n",
       "        89.,  22.,   7.,  21.,  10.,  16.,   7.,  10.,  12.,  17.,  16.,\n",
       "       111.,   6.,  25.,   6.,  47.,  14.,  11.,  18.,  19.,  24.,   5.,\n",
       "        29.,  46.,  37.,  10.,   8.,   7.,  10.,  22.,   9.,  28.,  17.,\n",
       "        22.,  24.,  27.,  11.,  37.,  15.,   2.,  20.,   6.,  21.,   9.,\n",
       "        16.,  13.,  35.,   6.,  10.,  12.,   8.,  18.,  35.,   5.,  10.,\n",
       "        14.,  22.,   1.,   9.,   8.,  26.,  26.,  17.,   6.,  25.,  17.,\n",
       "         6.,   1.,   7.,   4.,  13.,   8.,  13.,  13.,  22.,  10.,  13.,\n",
       "        51.,  28.,   5.,  30.,  14.,   7.,  11.,  12.,   2.,  12.,  13.,\n",
       "        26.,  10.,  22.,   5.,   8.,   5.,  27.,   5.,  12.,  28.,   3.,\n",
       "        11.,   8.,   5.,   9.,  12.,  15.,  14.,  23.,   6.,  11.,   2.,\n",
       "         5.,   2.,  18.,  13.,  18.,   6.,   0.,  16.,   5.,   9.,   7.,\n",
       "        11.,   0.,  14.,  11.,  13.,  12.,  10.,  21.,   2.,  17.,   7.,\n",
       "        11.,  10.,  11.,  10.,  12.,   9.,   4.,   4.,   6.,   7.,   7.,\n",
       "        18.,   5.,   2.,  13.,  11.,   4.,  21.,  10.,   2.,   3.,  11.,\n",
       "        12.,   1.,   1.,   6.,  22.,   7.,   5.,   0.,  15.,  13.,  30.,\n",
       "        11.,  10.,  11.,   2.,   2.,   7.,   6.,  14.,   4.,   0.,   4.,\n",
       "        14.,  11.,  19.,   8.,   4.,   8.,  13.,  12.,   2.,  60.,   3.,\n",
       "         9.,   4.,   3.,   7.,   5.,  18.,  13.,   9.,   5.,   3.,   0.,\n",
       "         7.,   4.,  18.,   5.,   4.,   7.,   9.,   4.,   8.,   9.,   8.,\n",
       "         4.,   1.,   4.,   2.,   7.,   9.,   5.,  63.,   8.,  53.,   8.,\n",
       "        18.,   8.,  12.,   7.,   1.,   5.,   1.,   5.,  15.,   7.,   4.,\n",
       "        66.,   0.,  10.,  41.,   9.,   7., 111.,   3.,   7.,   1.,  25.,\n",
       "        14.,   4.,  11.,   3.,   7.,   2.,   9.,   0.,  15.,  19.,   6.,\n",
       "         6.,   6.,  15.,   9.,   3.,   6.,   5.,   2.,   3.,  10.,  12.,\n",
       "         1.,  14.,   3.,   7.,   8.,   5.,   1.,   5.,   3.,  11.,   2.,\n",
       "         3.,   5.,   1.,   4.,   3.,   1.,   3.,   9.,   6.,   0.,  10.,\n",
       "         0.,   3.,   2.,   4.,   4.,   3.,   6.,   1.,  10.,  18.,   2.,\n",
       "        15.,   3.,  13.,   7.,  96.,   2.,   5.,   5.,   3.,   2.,   7.,\n",
       "         7.,  14.,   4.,   1.,   6.,   6.,   5.,   5.,   0.,   2.,   5.,\n",
       "         2.,  17.,   6.,   9.,   6.,   5.,  14.,   7.,   5.,   4.,   8.,\n",
       "         1.,   4.,   3.,   0.,  10.,   5.,   0.,   6.,   2.,   3.,   2.,\n",
       "        15.,   2.,   4.,   3.,   6.,   1.,   0.,  11.,   1.,  16.,   1.,\n",
       "         2.,   3.,   5.,  17.,   0.,   0.,   2.,   5.,   0.,   9.,   6.,\n",
       "        14.,   0.,   0.,   5.,   0.,   4.,   9.,   0.,   0.,   9.,   5.,\n",
       "        15.,   3.,   4.,   1.,   4.,   6.,   3.,   4.,   0.,   4.,   6.,\n",
       "         6.,   4.,   0.,   3.,   8.,   2.,   3.,   4.,   5.,   7.,   2.,\n",
       "         3.,   2.,   2.,   2.,   8.,   0.,   5.,  13.,  43.,   1.,   1.,\n",
       "         1.,   2.,   3.,  10.,   4.,   2.,  12.,   3.,   1.,   3.,   6.,\n",
       "         3.,   1.,   2.,   2.,   0.,   3.,   2.,   2.,   6.,   1.,   0.,\n",
       "         5.,   6.,   4.,   1.,   3.])"
      ]
     },
     "execution_count": 14,
     "metadata": {},
     "output_type": "execute_result"
    }
   ],
   "source": [
    "y_all.sum(axis=0)"
   ]
  },
  {
   "cell_type": "markdown",
   "metadata": {},
   "source": [
    "## Helper function"
   ]
  },
  {
   "cell_type": "code",
   "execution_count": 15,
   "metadata": {},
   "outputs": [],
   "source": [
    "_, input_size = mixed_model.workers[0].x_train.shape"
   ]
  },
  {
   "cell_type": "code",
   "execution_count": 16,
   "metadata": {},
   "outputs": [],
   "source": [
    "def compute_w_opt(mixed_model: MasterNode, compute_lipschitz: bool, tolerances: list, workers: list=None, stepsize: float=3.333):\n",
    "    MAX_IT_PLM = 1000000\n",
    "    criterion = nn.BCELoss()\n",
    "    if workers is None:\n",
    "        workers = list(range(mixed_model.n_workers))\n",
    "    W = np.empty(shape=(len(tolerances), len(workers), mixed_model.d))\n",
    "    for worker_counter, worker_id in enumerate(workers):\n",
    "        print('Worker {}'.format(worker_id))\n",
    "        filled_flag = [False] * len(tolerances)\n",
    "        worker = mixed_model.workers[worker_id]        \n",
    "        loss = None\n",
    "        grad_norm = None   \n",
    "        net = nn.Sequential(nn.Linear(input_size, d_y, bias=False), nn.Sigmoid())\n",
    "        with torch.no_grad():\n",
    "            torch.nn.init.zeros_(net.state_dict()['0.weight'])\n",
    "        if compute_lipschitz:\n",
    "            smoothness = worker._smoothness()\n",
    "            worker.smoothness = smoothness\n",
    "            stepsize = 1./smoothness\n",
    "        for i in range(MAX_IT_PLM):\n",
    "            if filled_flag == [True] * len(tolerances):\n",
    "                break\n",
    "                \n",
    "            net.zero_grad()\n",
    "            out = net(torch.Tensor(worker.x_train))\n",
    "            loss = criterion(out, torch.Tensor(worker.y_train))\n",
    "            loss.backward()\n",
    "            with torch.no_grad():\n",
    "                for parameter in net.parameters():\n",
    "                    grad_norm = torch.norm(parameter.grad)\n",
    "                    print('{} / {} loss {} grad_norm {}'.format(i, MAX_IT_PLM, loss.numpy(), grad_norm.numpy()), end='\\r')\n",
    "                    for counter_tol, tolerance in enumerate(tolerances):\n",
    "                        if grad_norm < tolerance and not filled_flag[counter_tol]:\n",
    "                            W[counter_tol, worker_counter, :] = parameter.detach().numpy().flatten(order='F')\n",
    "                            filled_flag[counter_tol] = True\n",
    "                    parameter -= stepsize * parameter.grad\n",
    "                    \n",
    "        print('')\n",
    "    return W"
   ]
  },
  {
   "cell_type": "markdown",
   "metadata": {},
   "source": [
    "Usually Lipschitz smoothness does not exceed 0.3 what we use here to fasten the calculations by skipping computation of the constant."
   ]
  },
  {
   "cell_type": "markdown",
   "metadata": {},
   "source": [
    "## Choosing tolerance level"
   ]
  },
  {
   "cell_type": "code",
   "execution_count": 22,
   "metadata": {},
   "outputs": [],
   "source": [
    "tolerances = [1e-1, 1e-2, 1e-3, 1e-4, 1e-5]"
   ]
  },
  {
   "cell_type": "code",
   "execution_count": 23,
   "metadata": {},
   "outputs": [
    {
     "name": "stdout",
     "output_type": "stream",
     "text": [
      "Worker 0\n",
      "6966 / 1000000 loss 0.0012949527008458972 grad_norm 9.999846042774152e-065\n",
      "Worker 1\n",
      "7143 / 1000000 loss 0.0013620667159557343 grad_norm 9.999151188821997e-065\n",
      "Worker 2\n",
      "7649 / 1000000 loss 0.0014594797976315022 grad_norm 9.999597750720568e-065\n",
      "Worker 3\n",
      "7822 / 1000000 loss 0.0013716374523937702 grad_norm 9.999618669098709e-065\n",
      "Worker 4\n",
      "9620 / 1000000 loss 0.001724475296214223 grad_norm 9.999874237109907e-0605\n",
      "Worker 5\n",
      "6841 / 1000000 loss 0.0012690064031630754 grad_norm 9.998535460908897e-065\n",
      "Worker 6\n",
      "5388 / 1000000 loss 0.001041197800077498 grad_norm 9.998577297665179e-0605\n",
      "Worker 7\n",
      "7933 / 1000000 loss 0.0014692937256768346 grad_norm 9.999565008911304e-065\n",
      "Worker 8\n",
      "7053 / 1000000 loss 0.0012883152812719345 grad_norm 9.99941403279081e-0605\n",
      "Worker 9\n",
      "6243 / 1000000 loss 0.0011304613435640931 grad_norm 9.999195754062384e-065\n",
      "Worker 10\n",
      "5939 / 1000000 loss 0.0011140553979203105 grad_norm 9.999346730182879e-065\n",
      "Worker 11\n",
      "8924 / 1000000 loss 0.0016209336463361979 grad_norm 9.999676876759622e-065\n",
      "Worker 12\n",
      "7896 / 1000000 loss 0.001410754513926804 grad_norm 9.999025678553153e-0605\n",
      "Worker 13\n",
      "6232 / 1000000 loss 0.001183615648187697 grad_norm 9.999544090533163e-0655\n",
      "Worker 14\n",
      "7659 / 1000000 loss 0.0014051166363060474 grad_norm 9.999658686865587e-065\n",
      "Worker 15\n",
      "6111 / 1000000 loss 0.0011325400555506349 grad_norm 9.999037501984276e-065\n",
      "Worker 16\n",
      "7420 / 1000000 loss 0.001426170812919736 grad_norm 9.99948042590404e-06055\n",
      "Worker 17\n",
      "6249 / 1000000 loss 0.0011564824962988496 grad_norm 9.999652320402674e-065\n",
      "Worker 18\n",
      "7344 / 1000000 loss 0.0013444065116345882 grad_norm 9.998743735195603e-065\n",
      "Worker 19\n",
      "6350 / 1000000 loss 0.0011356511386111379 grad_norm 9.999889698519837e-065\n",
      "Worker 20\n",
      "8515 / 1000000 loss 0.001539104152470827 grad_norm 9.998804671340622e-0655\n",
      "Worker 21\n",
      "9320 / 1000000 loss 0.001688377233222127 grad_norm 9.999645953939762e-0655\n",
      "Worker 22\n",
      "7518 / 1000000 loss 0.0013701235875487328 grad_norm 9.999871508625802e-065\n",
      "Worker 23\n",
      "7456 / 1000000 loss 0.0014338023029267788 grad_norm 9.999356734624598e-065\n",
      "Worker 24\n",
      "6018 / 1000000 loss 0.0011926309671252966 grad_norm 9.999871508625802e-065\n",
      "Worker 25\n",
      "6930 / 1000000 loss 0.0012158304452896118 grad_norm 9.999179383157752e-065\n",
      "Worker 26\n",
      "5199 / 1000000 loss 0.0009660591022111475 grad_norm 9.999529538617935e-065\n",
      "Worker 27\n",
      "8336 / 1000000 loss 0.001563894096761942 grad_norm 9.999987014452927e-0655\n",
      "Worker 28\n",
      "7551 / 1000000 loss 0.0013812039978802204 grad_norm 9.999915164371487e-065\n",
      "Worker 29\n",
      "8188 / 1000000 loss 0.0014627986820414662 grad_norm 9.999067515309434e-065\n",
      "Worker 30\n",
      "5929 / 1000000 loss 0.0011179519351571798 grad_norm 9.999412213801406e-065\n",
      "Worker 31\n",
      "8872 / 1000000 loss 0.0016578375361859798 grad_norm 9.99923486233456e-0605\n",
      "Worker 32\n",
      "6613 / 1000000 loss 0.0012966913636773825 grad_norm 9.999000212701503e-065\n",
      "Worker 33\n",
      "7461 / 1000000 loss 0.0013744327006861567 grad_norm 9.999372196034528e-065\n",
      "Worker 34\n",
      "6575 / 1000000 loss 0.001253217807970941 grad_norm 9.999948815675452e-0605\n",
      "Worker 35\n",
      "7808 / 1000000 loss 0.0014155032113194466 grad_norm 9.999177564168349e-065\n",
      "Worker 36\n",
      "8520 / 1000000 loss 0.0016051240963861346 grad_norm 9.999462236010004e-065\n",
      "Worker 37\n",
      "6936 / 1000000 loss 0.001321731018833816 grad_norm 9.999524081649724e-0605\n",
      "Worker 38\n",
      "7016 / 1000000 loss 0.0012689291033893824 grad_norm 9.999403118854389e-065\n",
      "Worker 39\n",
      "6839 / 1000000 loss 0.0013220269465819001 grad_norm 9.998995665227994e-065\n",
      "Worker 40\n",
      "8529 / 1000000 loss 0.0015454826643690467 grad_norm 9.998795576393604e-065\n",
      "Worker 41\n",
      "8907 / 1000000 loss 0.0016535526374354959 grad_norm 9.999399480875582e-065\n",
      "Worker 42\n",
      "5340 / 1000000 loss 0.0009942579781636596 grad_norm 9.998217137763277e-065\n",
      "Worker 43\n",
      "6193 / 1000000 loss 0.0011961832642555237 grad_norm 9.99982421490131e-0655\n",
      "Worker 44\n",
      "7658 / 1000000 loss 0.001415866194292903 grad_norm 9.999927897297312e-0605\n",
      "Worker 45\n",
      "8557 / 1000000 loss 0.0015963107580319047 grad_norm 9.999072062782943e-065\n",
      "Worker 46\n",
      "8140 / 1000000 loss 0.0015099507290869951 grad_norm 9.999936082749628e-065\n",
      "Worker 47\n",
      "6057 / 1000000 loss 0.0011820860672742128 grad_norm 9.999259418691508e-065\n",
      "Worker 48\n",
      "7647 / 1000000 loss 0.001384844072163105 grad_norm 9.999282156059053e-0605\n",
      "Worker 49\n",
      "5030 / 1000000 loss 0.0009992328705266118 grad_norm 9.998458153859247e-065\n"
     ]
    }
   ],
   "source": [
    "W_opt_tol = compute_w_opt(mixed_model, False, tolerances, None, 2048.)"
   ]
  },
  {
   "cell_type": "code",
   "execution_count": 24,
   "metadata": {},
   "outputs": [
    {
     "data": {
      "text/plain": [
       "(5, 50, 5000500)"
      ]
     },
     "execution_count": 24,
     "metadata": {},
     "output_type": "execute_result"
    }
   ],
   "source": [
    "W_opt_tol.shape"
   ]
  },
  {
   "cell_type": "code",
   "execution_count": 25,
   "metadata": {},
   "outputs": [],
   "source": [
    "with open('datasets/list_clients_{}.data'.format(exp_keyword), 'rb') as file:\n",
    "    counter_to_id = pickle.load(file)"
   ]
  },
  {
   "cell_type": "code",
   "execution_count": 17,
   "metadata": {},
   "outputs": [],
   "source": [
    "if exp_keyword == 'SO_LR_two_workers_100':\n",
    "    counter_to_id = 50 * [counter_to_id[0]] + 50 * [counter_to_id[1]]"
   ]
  },
  {
   "cell_type": "code",
   "execution_count": 26,
   "metadata": {},
   "outputs": [],
   "source": [
    "assert len(counter_to_id) == n_workers"
   ]
  },
  {
   "cell_type": "code",
   "execution_count": 27,
   "metadata": {},
   "outputs": [],
   "source": [
    "top_k = 5"
   ]
  },
  {
   "cell_type": "code",
   "execution_count": 28,
   "metadata": {},
   "outputs": [
    {
     "name": "stdout",
     "output_type": "stream",
     "text": [
      "50\n"
     ]
    }
   ],
   "source": [
    "losses = np.zeros(len(tolerances))\n",
    "recalls = np.zeros(len(tolerances))\n",
    "metrics = Recall(top_k=top_k)\n",
    "print(n_workers)\n",
    "for i in range(len(tolerances)):\n",
    "    metrics.reset_state()\n",
    "    predicts = np.empty(shape=(0, d_y))\n",
    "    true_labels = np.empty(shape=(0, d_y))\n",
    "    for worker_counter, worker_id in enumerate(range(n_workers)):\n",
    "        X_, y_ = load_data_npy(prefix='{}_val'.format(exp_keyword), node_id=counter_to_id[worker_id])\n",
    "        losses[i] += mixed_model.workers[worker_id].fun_value_general(X_, y_, W_opt_tol[i, worker_counter, :])\n",
    "        true_labels = np.vstack((true_labels, y_))\n",
    "        curr_predicts = mixed_model.workers[worker_id].get_h(X_, W_opt_tol[i, worker_counter, :])\n",
    "        predicts = np.vstack((predicts, curr_predicts))        \n",
    "    losses[i] /= n_workers\n",
    "    metrics.update_state(true_labels, predicts) \n",
    "    recalls[i] = metrics.result().numpy()"
   ]
  },
  {
   "cell_type": "code",
   "execution_count": 29,
   "metadata": {},
   "outputs": [
    {
     "data": {
      "text/plain": [
       "array([0.69314718, 0.12661337, 0.03321124, 0.01326585, 0.00650159])"
      ]
     },
     "execution_count": 29,
     "metadata": {},
     "output_type": "execute_result"
    }
   ],
   "source": [
    "losses"
   ]
  },
  {
   "cell_type": "code",
   "execution_count": 30,
   "metadata": {},
   "outputs": [
    {
     "data": {
      "text/plain": [
       "array([0.17060237, 0.53912348, 0.53922355, 0.58304983, 0.88603163])"
      ]
     },
     "execution_count": 30,
     "metadata": {},
     "output_type": "execute_result"
    }
   ],
   "source": [
    "recalls"
   ]
  },
  {
   "cell_type": "markdown",
   "metadata": {},
   "source": [
    "## Setting PLMs and Lipschtitz constants"
   ]
  },
  {
   "cell_type": "code",
   "execution_count": 31,
   "metadata": {},
   "outputs": [],
   "source": [
    "best_tol_ind = np.argmin(losses)"
   ]
  },
  {
   "cell_type": "code",
   "execution_count": 32,
   "metadata": {},
   "outputs": [
    {
     "data": {
      "text/plain": [
       "4"
      ]
     },
     "execution_count": 32,
     "metadata": {},
     "output_type": "execute_result"
    }
   ],
   "source": [
    "best_tol_ind"
   ]
  },
  {
   "cell_type": "code",
   "execution_count": 33,
   "metadata": {},
   "outputs": [],
   "source": [
    "for worker_counter in range(n_workers):\n",
    "    mixed_model.workers[worker_counter].w_opt = W_opt_tol[best_tol_ind, worker_counter, :]\n",
    "    mixed_model.workers[worker_counter].smoothness = 0.3"
   ]
  },
  {
   "cell_type": "code",
   "execution_count": 34,
   "metadata": {},
   "outputs": [],
   "source": [
    "mixed_model.l_s = np.array([mixed_model.workers[i].smoothness for i in mixed_model.workers])"
   ]
  },
  {
   "cell_type": "markdown",
   "metadata": {},
   "source": [
    "## Saving PLMs and Lipschitz constants into files"
   ]
  },
  {
   "cell_type": "code",
   "execution_count": 36,
   "metadata": {},
   "outputs": [],
   "source": [
    "# W = np.empty(shape=(n_workers, mixed_model.d))\n",
    "# assert mixed_model.n_workers == n_workers\n",
    "# for counter in range(mixed_model.n_workers):\n",
    "#     W[counter, :] = mixed_model.workers[counter].w_opt\n",
    "# np.save(DATASET_PATH + 'PLM_{}.npy'.format(exp_keyword), W)"
   ]
  },
  {
   "cell_type": "code",
   "execution_count": 37,
   "metadata": {},
   "outputs": [],
   "source": [
    "# np.save(DATASET_PATH + 'Lipschitz_constants_{}.npy'.format(exp_keyword), np.array(mixed_model.l_s))"
   ]
  },
  {
   "cell_type": "markdown",
   "metadata": {},
   "source": [
    "## Setting pre-computed PLMs and Lipschitz constants into computing edges' private fields"
   ]
  },
  {
   "cell_type": "code",
   "execution_count": 18,
   "metadata": {},
   "outputs": [],
   "source": [
    "W = np.load(DATASET_PATH + 'PLM_{}.npy'.format(exp_keyword))"
   ]
  },
  {
   "cell_type": "code",
   "execution_count": 19,
   "metadata": {},
   "outputs": [],
   "source": [
    "l_s = np.load(DATASET_PATH + 'Lipschitz_constants_{}.npy'.format(exp_keyword))"
   ]
  },
  {
   "cell_type": "code",
   "execution_count": 20,
   "metadata": {},
   "outputs": [],
   "source": [
    "for i in range(mixed_model.n_workers):\n",
    "    mixed_model.workers[i].w_opt = W[i, :]\n",
    "    mixed_model.workers[i].smoothness = l_s[i]\n",
    "mixed_model.l_s = l_s\n",
    "mixed_model.smoothness = mixed_model._smoothness()\n",
    "mixed_model.w_opt_global = None"
   ]
  },
  {
   "cell_type": "code",
   "execution_count": 21,
   "metadata": {},
   "outputs": [],
   "source": [
    "# mixed_model.update_workers()"
   ]
  },
  {
   "cell_type": "code",
   "execution_count": 38,
   "metadata": {},
   "outputs": [
    {
     "name": "stdout",
     "output_type": "stream",
     "text": [
      "9.999897094706753e-06\n",
      "9.999190050444463e-06\n",
      "9.99963456709834e-06\n",
      "9.999668671591801e-06\n",
      "9.999907360392038e-06\n",
      "9.998585348620846e-06\n",
      "9.998622832981234e-06\n",
      "9.99963392706532e-06\n",
      "9.999468554269521e-06\n",
      "9.999255609796745e-06\n"
     ]
    }
   ],
   "source": [
    "for i in range(10):\n",
    "    worker = mixed_model.workers[i]\n",
    "    print(np.linalg.norm(worker.grad(worker.x_train, worker.y_train, worker.w_opt)))"
   ]
  },
  {
   "cell_type": "code",
   "execution_count": 39,
   "metadata": {},
   "outputs": [
    {
     "name": "stdout",
     "output_type": "stream",
     "text": [
      "0.2\n"
     ]
    }
   ],
   "source": [
    "print(mixed_model.workers[0].val_rat)"
   ]
  },
  {
   "cell_type": "code",
   "execution_count": 41,
   "metadata": {},
   "outputs": [
    {
     "name": "stdout",
     "output_type": "stream",
     "text": [
      "[72 73 74 75 76 77 78 79 80 81 82 83 84 85 86 87 88 89]\n"
     ]
    }
   ],
   "source": [
    "print(mixed_model.workers[4].validation_indices)"
   ]
  },
  {
   "cell_type": "code",
   "execution_count": 43,
   "metadata": {},
   "outputs": [
    {
     "data": {
      "text/plain": [
       "90"
      ]
     },
     "execution_count": 43,
     "metadata": {},
     "output_type": "execute_result"
    }
   ],
   "source": [
    "len(mixed_model.workers[0].x_train)"
   ]
  },
  {
   "cell_type": "markdown",
   "metadata": {},
   "source": [
    "# GridSearch"
   ]
  },
  {
   "cell_type": "code",
   "execution_count": 44,
   "metadata": {},
   "outputs": [],
   "source": [
    "class modified_linear:\n",
    "    def __init__(self, input_size, output_size, alpha):\n",
    "        self.in_features = input_size\n",
    "        self.out_features = output_size\n",
    "        self.weight_shape = (input_size, output_size)\n",
    "        self.weigh_size = np.prod(self.weight_shape)\n",
    "        self.alpha = alpha\n",
    "        \n",
    "    def forward(self, x, w_global, w_local):\n",
    "        out = F.linear(x, self.alpha * w_global + (1 - self.alpha) * w_local.view(*self.weight_shape).transpose(1, 0))\n",
    "        out = torch.sigmoid(out)\n",
    "        return out\n",
    "    \n",
    "    def __call__(self, *args, **kwargs):\n",
    "        return self.forward(*args, **kwargs)"
   ]
  },
  {
   "cell_type": "code",
   "execution_count": 45,
   "metadata": {},
   "outputs": [],
   "source": [
    "criterion = nn.BCELoss(reduction='mean') \n",
    "in_features = 10001\n",
    "out_features = 500\n",
    "n_datapoints = mixed_model.workers[0].x_train.shape[0]"
   ]
  },
  {
   "cell_type": "code",
   "execution_count": 242,
   "metadata": {},
   "outputs": [],
   "source": [
    "w_opts = torch.empty(size=(n_workers, mixed_model.workers[0].w_opt.shape[0]))\n",
    "x_trains = torch.empty(size=(n_workers, n_datapoints, in_features))\n",
    "y_trains = torch.empty(size=(n_workers, n_datapoints, out_features))\n",
    "for worker_counter, worker in mixed_model.workers.items():\n",
    "    w_opts[worker_counter] = torch.Tensor(worker.w_opt)\n",
    "    x_trains[worker_counter] = torch.Tensor(worker.x_train)\n",
    "    y_trains[worker_counter] = torch.Tensor(worker.y_train)"
   ]
  },
  {
   "cell_type": "code",
   "execution_count": 243,
   "metadata": {},
   "outputs": [],
   "source": [
    "w_opts = w_opts.to('cuda')"
   ]
  },
  {
   "cell_type": "code",
   "execution_count": 244,
   "metadata": {},
   "outputs": [],
   "source": [
    "x_trains = x_trains.to('cuda')\n",
    "y_trains = y_trains.to('cuda')"
   ]
  },
  {
   "cell_type": "code",
   "execution_count": 49,
   "metadata": {},
   "outputs": [],
   "source": [
    "w_0 = np.zeros(mixed_model.d)\n",
    "mixed_model.compute_smoothness_min = False"
   ]
  },
  {
   "cell_type": "code",
   "execution_count": 50,
   "metadata": {},
   "outputs": [],
   "source": [
    "param_size = in_features * out_features"
   ]
  },
  {
   "cell_type": "code",
   "execution_count": 51,
   "metadata": {},
   "outputs": [],
   "source": [
    "n_iter = 2000"
   ]
  },
  {
   "cell_type": "markdown",
   "metadata": {},
   "source": [
    "## Explicit mixture"
   ]
  },
  {
   "cell_type": "code",
   "execution_count": 52,
   "metadata": {},
   "outputs": [],
   "source": [
    "def Explicit_Mixture_stepsizes(alpha: float, pows: int):\n",
    "    basic_stepsizes = []\n",
    "    stepsize = 5e-2\n",
    "    for _ in range(pows):\n",
    "        basic_stepsizes.append(stepsize)\n",
    "        stepsize *= 10\n",
    "    return np.array(basic_stepsizes)"
   ]
  },
  {
   "cell_type": "code",
   "execution_count": 53,
   "metadata": {},
   "outputs": [
    {
     "data": {
      "text/plain": [
       "array([5.e-02, 5.e-01, 5.e+00, 5.e+01, 5.e+02, 5.e+03, 5.e+04, 5.e+05,\n",
       "       5.e+06])"
      ]
     },
     "execution_count": 53,
     "metadata": {},
     "output_type": "execute_result"
    }
   ],
   "source": [
    "Explicit_Mixture_stepsizes(1., 9)"
   ]
  },
  {
   "cell_type": "code",
   "execution_count": 54,
   "metadata": {},
   "outputs": [],
   "source": [
    "alphas = np.linspace(0.2, 1., 5)\n",
    "pows = 9"
   ]
  },
  {
   "cell_type": "code",
   "execution_count": 55,
   "metadata": {},
   "outputs": [
    {
     "data": {
      "text/plain": [
       "array([0.2, 0.4, 0.6, 0.8, 1. ])"
      ]
     },
     "execution_count": 55,
     "metadata": {},
     "output_type": "execute_result"
    }
   ],
   "source": [
    "alphas"
   ]
  },
  {
   "cell_type": "code",
   "execution_count": 56,
   "metadata": {},
   "outputs": [],
   "source": [
    "explicit_mixture_grid_search_table = np.zeros(shape=(len(alphas), pows))"
   ]
  },
  {
   "cell_type": "code",
   "execution_count": 57,
   "metadata": {},
   "outputs": [
    {
     "data": {
      "text/plain": [
       "(5, 9)"
      ]
     },
     "execution_count": 57,
     "metadata": {},
     "output_type": "execute_result"
    }
   ],
   "source": [
    "explicit_mixture_grid_search_table.shape"
   ]
  },
  {
   "cell_type": "code",
   "execution_count": 58,
   "metadata": {},
   "outputs": [
    {
     "data": {
      "text/plain": [
       "array([[0., 0., 0., 0., 0., 0., 0., 0., 0.],\n",
       "       [0., 0., 0., 0., 0., 0., 0., 0., 0.],\n",
       "       [0., 0., 0., 0., 0., 0., 0., 0., 0.],\n",
       "       [0., 0., 0., 0., 0., 0., 0., 0., 0.],\n",
       "       [0., 0., 0., 0., 0., 0., 0., 0., 0.]])"
      ]
     },
     "execution_count": 58,
     "metadata": {},
     "output_type": "execute_result"
    }
   ],
   "source": [
    "explicit_mixture_grid_search_table"
   ]
  },
  {
   "cell_type": "code",
   "execution_count": 60,
   "metadata": {},
   "outputs": [
    {
     "name": "stdout",
     "output_type": "stream",
     "text": [
      "alpha = 0.2\n",
      "stepsize = 0.05\n",
      "2000 / 2000 grad_norm 1.11181379907066e-0505\n",
      "stepsize = 0.5\n",
      "2000 / 2000 grad_norm 1.111113579099765e-055\n",
      "stepsize = 5.0\n",
      "2000 / 2000 grad_norm 1.104184593714308e-055\n",
      "stepsize = 50.0\n",
      "2000 / 2000 grad_norm 1.0415991710033268e-05\n",
      "stepsize = 500.0\n",
      "2000 / 2000 grad_norm 7.255679520312697e-066\n",
      "stepsize = 5000.0\n",
      "2000 / 2000 grad_norm 2.2419519609684357e-06\n",
      "stepsize = 50000.0\n",
      "2000 / 2000 grad_norm 6.094822424529411e-07\n",
      "stepsize = 500000.0\n",
      "2000 / 2000 grad_norm 4.827743964597175e-07\n",
      "stepsize = 5000000.0\n",
      "2000 / 2000 grad_norm 2.0428883829026745e-07\n",
      "alpha = 0.4\n",
      "stepsize = 0.05\n",
      "2000 / 2000 grad_norm 9.877285629045218e-05\n",
      "stepsize = 0.5\n",
      "2000 / 2000 grad_norm 9.836238314164802e-05\n",
      "stepsize = 5.0\n",
      "2000 / 2000 grad_norm 9.451765799894929e-05\n",
      "stepsize = 50.0\n",
      "2000 / 2000 grad_norm 7.07283616065979e-055\n",
      "stepsize = 500.0\n",
      "2000 / 2000 grad_norm 2.2526819520862773e-05\n",
      "stepsize = 5000.0\n",
      "2000 / 2000 grad_norm 2.647920609888388e-066\n",
      "stepsize = 50000.0\n",
      "2000 / 2000 grad_norm 1.8385043176749605e-06\n",
      "stepsize = 500000.0\n",
      "2000 / 2000 grad_norm 3.471466698101722e-055\n",
      "stepsize = 5000000.0\n",
      "2000 / 2000 grad_norm 1.210742652801855e-077\r"
     ]
    },
    {
     "name": "stderr",
     "output_type": "stream",
     "text": [
      "/home/gasanoe/Documents/fed_mixture_code/models.py:374: RuntimeWarning: overflow encountered in exp\n",
      "  return 1.0 / (1 + np.exp(-x))\n",
      "/home/gasanoe/Documents/fed_mixture_code/models.py:388: RuntimeWarning: divide by zero encountered in log\n",
      "  return -(np.where(y == 1, np.log(h), zeros) + np.where(y == 0, np.log(1-h), zeros)).mean()\n"
     ]
    },
    {
     "name": "stdout",
     "output_type": "stream",
     "text": [
      "\n",
      "alpha = 0.6000000000000001\n",
      "stepsize = 0.05\n",
      "2000 / 2000 grad_norm 0.0006546559161506593\n",
      "stepsize = 0.5\n",
      "2000 / 2000 grad_norm 0.0006417856202460825\n",
      "stepsize = 5.0\n",
      "2000 / 2000 grad_norm 0.0005385124823078513\n",
      "stepsize = 50.0\n",
      "2000 / 2000 grad_norm 0.00020810328715015203\n",
      "stepsize = 500.0\n",
      "2000 / 2000 grad_norm 2.0609084458556026e-05\n",
      "stepsize = 5000.0\n",
      "2000 / 2000 grad_norm 5.243919076747261e-066\n",
      "stepsize = 50000.0\n",
      "2000 / 2000 grad_norm 2.3600974600412883e-05\n",
      "stepsize = 500000.0\n",
      "2000 / 2000 grad_norm 1.1372297876732773e-06\n",
      "stepsize = 5000000.0\n",
      "2000 / 2000 grad_norm 1.3326259344130438e-17\n",
      "alpha = 0.8\n",
      "stepsize = 0.05\n",
      "2000 / 2000 grad_norm 0.0044381599873304375\n",
      "stepsize = 0.5\n",
      "2000 / 2000 grad_norm 0.0039309216663241394\n",
      "stepsize = 5.0\n",
      "2000 / 2000 grad_norm 0.0017665637424215674\n",
      "stepsize = 50.0\n",
      "2000 / 2000 grad_norm 0.00022722520225215703\n",
      "stepsize = 500.0\n",
      "2000 / 2000 grad_norm 1.656422136875335e-055\n",
      "stepsize = 5000.0\n",
      "2000 / 2000 grad_norm 9.383549695485272e-065\n",
      "stepsize = 50000.0\n",
      "2000 / 2000 grad_norm 0.00010740946163423361\n",
      "stepsize = 500000.0\n",
      "2000 / 2000 grad_norm 0.001971881836653\n",
      "stepsize = 5000000.0\n",
      "2000 / 2000 grad_norm 0.001971881836653\n",
      "alpha = 1.0\n",
      "stepsize = 0.05\n",
      "2000 / 2000 grad_norm 0.021168410778045654\n",
      "stepsize = 0.5\n",
      "2000 / 2000 grad_norm 0.013830289244651794\n",
      "stepsize = 5.0\n",
      "2000 / 2000 grad_norm 0.0022554602473974234\n",
      "stepsize = 50.0\n",
      "2000 / 2000 grad_norm 0.00018073761020787062\n",
      "stepsize = 500.0\n",
      "2000 / 2000 grad_norm 1.8114797057933174e-05\n",
      "stepsize = 5000.0\n",
      "2000 / 2000 grad_norm 1.3532909179048147e-05\n",
      "stepsize = 50000.0\n",
      "2000 / 2000 grad_norm 2.136493426618813e-099\n",
      "stepsize = 500000.0\n",
      "2000 / 2000 grad_norm 0.060695695877075\n",
      "stepsize = 5000000.0\n",
      "2000 / 2000 grad_norm 0.060695695877075\n"
     ]
    }
   ],
   "source": [
    "for counter_alpha, alpha in enumerate(alphas):\n",
    "    print('alpha = {}'.format(alpha))\n",
    "    mixed_model.change_alpha(alpha)\n",
    "    stepsizes = Explicit_Mixture_stepsizes(alpha, pows)\n",
    "    for counter_stepsize, stepsize in enumerate(stepsizes):\n",
    "        print('stepsize = {}'.format(stepsize))\n",
    "        w_global_numpy = copy.deepcopy(w_0)\n",
    "        w_global = torch.Tensor(w_global_numpy).view(in_features, out_features).transpose(1, 0).to('cuda').requires_grad_()\n",
    "        net = modified_linear(input_size, d_y, alpha)\n",
    "        grad_norm = None\n",
    "        for i in range(n_iter):\n",
    "            [criterion(net(x_trains[i], w_global, w_opts[i]), y_trains[i]).backward() for i in range(n_workers)]\n",
    "            gradient = w_global.grad / mixed_model.n_workers\n",
    "            grad_norm = torch.norm(gradient)\n",
    "            print('{} / {} grad_norm {}'.format(i + 1, n_iter, grad_norm), end='\\r')\n",
    "            with torch.no_grad():\n",
    "                w_global -= stepsize * gradient\n",
    "            w_global.requires_grad_(True)\n",
    "            w_global.grad = None\n",
    "        current_model = w_global.detach().cpu().numpy().reshape((-1), order='F')   \n",
    "        explicit_mixture_grid_search_table[counter_alpha, counter_stepsize] = mixed_model.compute_loss_on_external_dataset_mixture(w=current_model, \n",
    "                                                                                                                                   counter_to_id=counter_to_id,\n",
    "                                                                                                                                   prefix='{}_val'.format(exp_keyword))\n",
    "        with open(DATASET_PATH + 'grid_search_expmix_{}.npy'.format(exp_keyword), 'wb') as file:\n",
    "            np.save(file, explicit_mixture_grid_search_table)        \n",
    "        print('')"
   ]
  },
  {
   "cell_type": "code",
   "execution_count": null,
   "metadata": {},
   "outputs": [],
   "source": [
    "# # accelerated\n",
    "\n",
    "# for counter_alpha, alpha in enumerate(alphas):\n",
    "#     print('alpha = {}'.format(alpha))\n",
    "#     mixed_model.change_alpha(alpha)\n",
    "#     stepsizes = Explicit_Mixture_stepsizes(alpha, pows)\n",
    "#     for counter_stepsize, stepsize in enumerate(stepsizes):\n",
    "#         print('stepsize = {}'.format(stepsize))\n",
    "#         w_global_numpy = copy.deepcopy(w_0)\n",
    "#         w_global = torch.Tensor(w_global_numpy).view(in_features, out_features).transpose(1, 0).to('cuda').requires_grad_()\n",
    "#         y_global = w_global.clone()\n",
    "#         y_global_prev = w_global.clone()\n",
    "#         net = modified_linear(input_size, d_y, alpha)\n",
    "#         grad_norm = None\n",
    "#         for i in range(n_iter):\n",
    "#             [criterion(net(x_trains[i], w_global, w_opts[i]), y_trains[i]).backward() for i in range(n_workers)]\n",
    "#             gradient = w_global.grad / mixed_model.n_workers\n",
    "#             grad_norm = torch.norm(gradient)\n",
    "#             print('{} / {} grad_norm {}'.format(i + 1, n_iter, grad_norm), end='\\r')\n",
    "#             with torch.no_grad():\n",
    "#                 y_global = w_global - stepsize * w_global.grad / mixed_model.n_workers\n",
    "#                 w_global = y_global + (i / (i + 3)) * (y_global - y_global_prev)\n",
    "#                 y_global_prev = y_global.clone()\n",
    "#             w_global.grad = None\n",
    "#             w_global.requires_grad_(True)\n",
    "#         current_model = w_global.detach().cpu().numpy().reshape((-1), order='F')   \n",
    "#         explicit_mixture_grid_search_table[counter_alpha, counter_stepsize] = mixed_model.compute_loss_on_external_dataset_mixture(w=current_model, \n",
    "#                                                                                                                                    counter_to_id=counter_to_id,\n",
    "#                                                                                                                                    prefix='{}_val'.format(exp_keyword))\n",
    "#         with open(DATASET_PATH + 'grid_search_expmix_{}_acc.npy'.format(exp_keyword), 'wb') as file:\n",
    "#             np.save(file, explicit_mixture_grid_search_table)        \n",
    "#         print('')"
   ]
  },
  {
   "cell_type": "code",
   "execution_count": 62,
   "metadata": {},
   "outputs": [
    {
     "data": {
      "text/plain": [
       "array([[0.00695014, 0.00695014, 0.00695014, 0.00695045, 0.00695982,\n",
       "        0.00699194, 0.00698124, 0.0067676 , 0.30635135],\n",
       "       [0.01049788, 0.01049003, 0.01041519, 0.00989325, 0.00864088,\n",
       "        0.00818439, 0.00790308, 0.08144964,        inf],\n",
       "       [0.02952932, 0.0291486 , 0.02602521, 0.01580961, 0.0108443 ,\n",
       "        0.01035193, 0.00925391, 0.38997529, 0.46924242],\n",
       "       [0.13849476, 0.1227039 , 0.0589513 , 0.01877686, 0.01446806,\n",
       "        0.01374011, 0.0269503 , 0.32704678,        inf],\n",
       "       [0.64595213, 0.37694394, 0.06536399, 0.02236265, 0.01967519,\n",
       "        0.01831733, 0.17193501, 1.71999489,        inf]])"
      ]
     },
     "execution_count": 62,
     "metadata": {},
     "output_type": "execute_result"
    }
   ],
   "source": [
    "explicit_mixture_grid_search_table"
   ]
  },
  {
   "cell_type": "markdown",
   "metadata": {},
   "source": [
    "## FOMAML"
   ]
  },
  {
   "cell_type": "markdown",
   "metadata": {},
   "source": [
    "### Settings"
   ]
  },
  {
   "cell_type": "code",
   "execution_count": 187,
   "metadata": {},
   "outputs": [],
   "source": [
    "outer_loop_stepsizes = [5e-2 * 10 ** x for x in range (0, 10, 1)]\n",
    "inner_loop_stepsizes = [10 ** x for x in range(-3, 7, 1)]"
   ]
  },
  {
   "cell_type": "code",
   "execution_count": 188,
   "metadata": {},
   "outputs": [],
   "source": [
    "fomaml_grid_search_table = np.zeros(shape=(len(outer_loop_stepsizes), len(inner_loop_stepsizes)))"
   ]
  },
  {
   "cell_type": "code",
   "execution_count": 189,
   "metadata": {},
   "outputs": [
    {
     "data": {
      "text/plain": [
       "(10, 10)"
      ]
     },
     "execution_count": 189,
     "metadata": {},
     "output_type": "execute_result"
    }
   ],
   "source": [
    "fomaml_grid_search_table.shape"
   ]
  },
  {
   "cell_type": "code",
   "execution_count": 190,
   "metadata": {},
   "outputs": [],
   "source": [
    "train_indices = mixed_model.workers[0].train_indices\n",
    "validation_indices = mixed_model.workers[0].validation_indices"
   ]
  },
  {
   "cell_type": "markdown",
   "metadata": {},
   "source": [
    "We are checking that train and validation indices coincide for all workers."
   ]
  },
  {
   "cell_type": "code",
   "execution_count": 191,
   "metadata": {},
   "outputs": [],
   "source": [
    "for worker_counter in mixed_model.workers:\n",
    "    assert np.array_equal(mixed_model.workers[worker_counter].train_indices, train_indices)\n",
    "    assert np.array_equal(mixed_model.workers[worker_counter].validation_indices, validation_indices)    "
   ]
  },
  {
   "cell_type": "markdown",
   "metadata": {},
   "source": [
    "### To CUDA"
   ]
  },
  {
   "cell_type": "code",
   "execution_count": 192,
   "metadata": {},
   "outputs": [],
   "source": [
    "torch.cuda.empty_cache()"
   ]
  },
  {
   "cell_type": "code",
   "execution_count": 240,
   "metadata": {},
   "outputs": [],
   "source": [
    "x_trains_tr = x_trains[:, train_indices, :].to('cuda')\n",
    "y_trains_tr = y_trains[:, train_indices, :].to('cuda')\n",
    "x_trains_val = x_trains[:, validation_indices, :].to('cuda')\n",
    "y_trains_val = y_trains[:, validation_indices, :].to('cuda')"
   ]
  },
  {
   "cell_type": "markdown",
   "metadata": {},
   "source": [
    "### FOMAML in PyTorch framework:"
   ]
  },
  {
   "cell_type": "code",
   "execution_count": 194,
   "metadata": {},
   "outputs": [],
   "source": [
    "n_iter = 2000"
   ]
  },
  {
   "cell_type": "code",
   "execution_count": 195,
   "metadata": {},
   "outputs": [],
   "source": [
    "class BasicLinear:\n",
    "    def forward(self, x, w):\n",
    "        out = torch.bmm(x, w)\n",
    "        out = torch.sigmoid(out)\n",
    "        return out\n",
    "    \n",
    "    def __call__(self, *args, **kwargs):\n",
    "        return self.forward(*args, **kwargs)    "
   ]
  },
  {
   "cell_type": "code",
   "execution_count": 196,
   "metadata": {},
   "outputs": [],
   "source": [
    "net = BasicLinear()"
   ]
  },
  {
   "cell_type": "markdown",
   "metadata": {},
   "source": [
    "### Experiment"
   ]
  },
  {
   "cell_type": "code",
   "execution_count": 197,
   "metadata": {},
   "outputs": [],
   "source": [
    "w_global = None\n",
    "w_locals = None\n",
    "out = None"
   ]
  },
  {
   "cell_type": "code",
   "execution_count": null,
   "metadata": {},
   "outputs": [
    {
     "name": "stdout",
     "output_type": "stream",
     "text": [
      "-----outer = 0.05-----\n",
      "-----inner = 0.001-----\n",
      "Iteration 2000 / 2000\n",
      "-----inner = 0.01-----\n",
      "Iteration 2000 / 2000\n",
      "-----inner = 0.1-----\n",
      "Iteration 2000 / 2000\n",
      "-----inner = 1-----\n",
      "Iteration 2000 / 2000\n",
      "-----inner = 10-----\n",
      "Iteration 2000 / 2000\n",
      "-----inner = 100-----\n",
      "Iteration 2000 / 2000\n",
      "-----inner = 1000-----\n",
      "Iteration 2000 / 2000\n",
      "-----inner = 10000-----\n",
      "Iteration 2000 / 2000\n",
      "-----inner = 100000-----\n",
      "Iteration 2000 / 2000\r"
     ]
    },
    {
     "name": "stderr",
     "output_type": "stream",
     "text": [
      "/home/gasanoe/Documents/fed_mixture_code/models.py:388: RuntimeWarning: divide by zero encountered in log\n",
      "  return -(np.where(y == 1, np.log(h), zeros) + np.where(y == 0, np.log(1-h), zeros)).mean()\n"
     ]
    },
    {
     "name": "stdout",
     "output_type": "stream",
     "text": [
      "\n",
      "-----inner = 1000000-----\n",
      "Iteration 2000 / 2000\r"
     ]
    },
    {
     "name": "stderr",
     "output_type": "stream",
     "text": [
      "/home/gasanoe/Documents/fed_mixture_code/models.py:374: RuntimeWarning: overflow encountered in exp\n",
      "  return 1.0 / (1 + np.exp(-x))\n"
     ]
    },
    {
     "name": "stdout",
     "output_type": "stream",
     "text": [
      "\n",
      "-----outer = 0.5-----\n",
      "-----inner = 0.001-----\n",
      "Iteration 2000 / 2000\n",
      "-----inner = 0.01-----\n",
      "Iteration 2000 / 2000\n",
      "-----inner = 0.1-----\n",
      "Iteration 2000 / 2000\n",
      "-----inner = 1-----\n",
      "Iteration 2000 / 2000\n",
      "-----inner = 10-----\n",
      "Iteration 2000 / 2000\n",
      "-----inner = 100-----\n",
      "Iteration 2000 / 2000\n",
      "-----inner = 1000-----\n",
      "Iteration 563 / 2000\r"
     ]
    }
   ],
   "source": [
    "for counter_outer, outer_loop_stepsize in enumerate(outer_loop_stepsizes):\n",
    "    print('-----outer = {}-----'.format(outer_loop_stepsize))\n",
    "    for counter_inner, inner_loop_stepsize in enumerate(inner_loop_stepsizes):\n",
    "        w_global_numpy = copy.deepcopy(w_0)\n",
    "        w_global = torch.Tensor(w_global_numpy).view(input_size, d_y).to('cuda').requires_grad_(False)\n",
    "        w_locals = w_global.clone().detach().repeat(n_workers, 1, 1).to('cuda').requires_grad_()\n",
    "        print('-----inner = {}-----'.format(inner_loop_stepsize))\n",
    "        for i in range(n_iter):\n",
    "            print('Iteration {} / {}'.format(i + 1, n_iter), end='\\r')\n",
    "            for j in range(mixed_model.fomaml_number_of_inner_steps):\n",
    "                out = net(x_trains_tr, w_locals)\n",
    "                loss = criterion(out, y_trains_tr)\n",
    "                loss.backward()\n",
    "                with torch.no_grad():\n",
    "                    w_locals -= inner_loop_stepsize * mixed_model.n_workers * w_locals.grad # each client gradient is n_workers larger than what w_locals.grad returns since loss is taken over all workers\n",
    "                w_locals.grad = None\n",
    "            out = net(x_trains_val, w_locals)\n",
    "            loss = criterion(out, y_trains_val)\n",
    "            loss.backward()\n",
    "            with torch.no_grad():\n",
    "                w_global -= outer_loop_stepsize * w_locals.grad.sum(axis=0)\n",
    "                w_locals[:] = w_global.clone().detach().repeat(n_workers, 1, 1).requires_grad_()\n",
    "                w_locals.grad = None\n",
    "        current_model = w_global.clone().detach().cpu().numpy().reshape((-1))        \n",
    "        fomaml_grid_search_table[counter_outer, counter_inner] = mixed_model.compute_loss_on_external_dataset_local(w=current_model, \n",
    "                                                                                                                    counter_to_id=counter_to_id, \n",
    "                                                                                                                    stepsize=inner_loop_stepsize,\n",
    "                                                                                                                    k=mixed_model.fomaml_number_of_inner_steps,\n",
    "                                                                                                                    prefix='{}_val'.format(exp_keyword))\n",
    "        with open(DATASET_PATH + 'grid_search_fomaml_{}.npy'.format(exp_keyword), 'wb') as file:\n",
    "            np.save(file, fomaml_grid_search_table)\n",
    "        del w_global\n",
    "        del w_locals\n",
    "        del out\n",
    "        torch.cuda.empty_cache()\n",
    "        print('')"
   ]
  },
  {
   "cell_type": "code",
   "execution_count": null,
   "metadata": {},
   "outputs": [],
   "source": [
    "fomaml_grid_search_table"
   ]
  },
  {
   "cell_type": "code",
   "execution_count": 88,
   "metadata": {},
   "outputs": [],
   "source": [
    "with torch.no_grad():\n",
    "    del x_trains_tr \n",
    "    del y_trains_tr \n",
    "    del x_trains_val\n",
    "    del y_trains_val\n",
    "    torch.cuda.empty_cache()"
   ]
  },
  {
   "cell_type": "code",
   "execution_count": 42,
   "metadata": {},
   "outputs": [],
   "source": [
    "with torch.no_grad():\n",
    "    del out\n",
    "    torch.cuda.empty_cache()"
   ]
  },
  {
   "cell_type": "markdown",
   "metadata": {},
   "source": [
    "## Reptile"
   ]
  },
  {
   "cell_type": "code",
   "execution_count": 233,
   "metadata": {},
   "outputs": [],
   "source": [
    "outer_loop_stepsizes = [5e-2 * 10 ** x for x in range (0, 10, 1)]\n",
    "inner_loop_stepsizes = [10 ** x for x in range(-3, 7, 1)]"
   ]
  },
  {
   "cell_type": "code",
   "execution_count": 234,
   "metadata": {},
   "outputs": [],
   "source": [
    "reptile_grid_search_table = np.zeros(shape=(len(outer_loop_stepsizes), len(inner_loop_stepsizes)))"
   ]
  },
  {
   "cell_type": "code",
   "execution_count": 235,
   "metadata": {},
   "outputs": [
    {
     "data": {
      "text/plain": [
       "(10, 10)"
      ]
     },
     "execution_count": 235,
     "metadata": {},
     "output_type": "execute_result"
    }
   ],
   "source": [
    "reptile_grid_search_table.shape"
   ]
  },
  {
   "cell_type": "code",
   "execution_count": 236,
   "metadata": {},
   "outputs": [],
   "source": [
    "net = BasicLinear()"
   ]
  },
  {
   "cell_type": "code",
   "execution_count": 237,
   "metadata": {},
   "outputs": [],
   "source": [
    "w_global = None\n",
    "w_locals = None\n",
    "out = None"
   ]
  },
  {
   "cell_type": "code",
   "execution_count": 238,
   "metadata": {},
   "outputs": [],
   "source": [
    "n_iter = 2000"
   ]
  },
  {
   "cell_type": "code",
   "execution_count": null,
   "metadata": {},
   "outputs": [
    {
     "name": "stdout",
     "output_type": "stream",
     "text": [
      "-----outer = 0.05-----\n",
      "-----inner = 0.001-----\n",
      "Iteration 2000 / 2000\n",
      "-----inner = 0.01-----\n",
      "Iteration 2000 / 2000\n",
      "-----inner = 0.1-----\n",
      "Iteration 2000 / 2000\n",
      "-----inner = 1-----\n",
      "Iteration 2000 / 2000\n",
      "-----inner = 10-----\n",
      "Iteration 2000 / 2000\n",
      "-----inner = 100-----\n",
      "Iteration 2000 / 2000\n",
      "-----inner = 1000-----\n",
      "Iteration 2000 / 2000\n",
      "-----inner = 10000-----\n",
      "Iteration 2000 / 2000\n",
      "-----inner = 100000-----\n",
      "Iteration 2000 / 2000\r"
     ]
    },
    {
     "name": "stderr",
     "output_type": "stream",
     "text": [
      "/home/gasanoe/Documents/fed_mixture_code/models.py:388: RuntimeWarning: divide by zero encountered in log\n",
      "  return -(np.where(y == 1, np.log(h), zeros) + np.where(y == 0, np.log(1-h), zeros)).mean()\n"
     ]
    },
    {
     "name": "stdout",
     "output_type": "stream",
     "text": [
      "\n",
      "-----inner = 1000000-----\n",
      "Iteration 2000 / 2000\r"
     ]
    },
    {
     "name": "stderr",
     "output_type": "stream",
     "text": [
      "/home/gasanoe/Documents/fed_mixture_code/models.py:374: RuntimeWarning: overflow encountered in exp\n",
      "  return 1.0 / (1 + np.exp(-x))\n"
     ]
    },
    {
     "name": "stdout",
     "output_type": "stream",
     "text": [
      "\n",
      "-----outer = 0.5-----\n",
      "-----inner = 0.001-----\n",
      "Iteration 2000 / 2000\n",
      "-----inner = 0.01-----\n",
      "Iteration 2000 / 2000\n",
      "-----inner = 0.1-----\n",
      "Iteration 2000 / 2000\n",
      "-----inner = 1-----\n",
      "Iteration 2000 / 2000\n",
      "-----inner = 10-----\n",
      "Iteration 2000 / 2000\n",
      "-----inner = 100-----\n",
      "Iteration 2000 / 2000\n",
      "-----inner = 1000-----\n",
      "Iteration 2000 / 2000\n",
      "-----inner = 10000-----\n",
      "Iteration 2000 / 2000\n",
      "-----inner = 100000-----\n",
      "Iteration 2000 / 2000\n",
      "-----inner = 1000000-----\n",
      "Iteration 2000 / 2000\n",
      "-----outer = 5.0-----\n",
      "-----inner = 0.001-----\n",
      "Iteration 248 / 2000\r"
     ]
    }
   ],
   "source": [
    "for counter_outer, outer_loop_stepsize in enumerate(outer_loop_stepsizes):\n",
    "    print('-----outer = {}-----'.format(outer_loop_stepsize))\n",
    "    for counter_inner, inner_loop_stepsize in enumerate(inner_loop_stepsizes):\n",
    "        w_global_numpy = copy.deepcopy(w_0)\n",
    "        w_global = torch.Tensor(w_global_numpy).view(input_size, d_y).to('cuda').requires_grad_(False)\n",
    "        w_locals = w_global.clone().detach().repeat(n_workers, 1, 1).to('cuda').requires_grad_()\n",
    "        print('-----inner = {}-----'.format(inner_loop_stepsize))\n",
    "        for i in range(n_iter):\n",
    "            print('Iteration {} / {}'.format(i + 1, n_iter), end='\\r')\n",
    "            for j in range(mixed_model.reptile_number_of_inner_steps):\n",
    "                out = net(x_trains, w_locals)\n",
    "                loss = criterion(out, y_trains)\n",
    "                loss.backward()\n",
    "                with torch.no_grad():\n",
    "                    w_locals -= inner_loop_stepsize * mixed_model.n_workers * w_locals.grad\n",
    "                w_locals.grad = None\n",
    "            with torch.no_grad():\n",
    "                w_global += outer_loop_stepsize * (w_locals - w_global).mean(axis=0) / inner_loop_stepsize / mixed_model.reptile_number_of_inner_steps\n",
    "                w_locals[:] = w_global.clone().detach().repeat(n_workers, 1, 1).requires_grad_()\n",
    "                w_locals.grad = None\n",
    "        current_model = w_global.clone().detach().cpu().numpy().reshape((-1))        \n",
    "        reptile_grid_search_table[counter_outer, counter_inner] = mixed_model.compute_loss_on_external_dataset_local(w=current_model, \n",
    "                                                                                                                    counter_to_id=counter_to_id, \n",
    "                                                                                                                    stepsize=inner_loop_stepsize,\n",
    "                                                                                                                    k=mixed_model.reptile_number_of_inner_steps,\n",
    "                                                                                                                    prefix='{}_val'.format(exp_keyword))\n",
    "        with open(DATASET_PATH + 'grid_search_reptile_{}.npy'.format(exp_keyword), 'wb') as file:\n",
    "            np.save(file, reptile_grid_search_table)\n",
    "        del w_global\n",
    "        del w_locals\n",
    "        del out\n",
    "        torch.cuda.empty_cache()\n",
    "        print('')"
   ]
  },
  {
   "cell_type": "markdown",
   "metadata": {},
   "source": [
    "## Tables"
   ]
  },
  {
   "cell_type": "code",
   "execution_count": 269,
   "metadata": {},
   "outputs": [],
   "source": [
    "table_exp_mix = np.load('datasets/grid_search_expmix_{}.npy'.format(exp_keyword))"
   ]
  },
  {
   "cell_type": "code",
   "execution_count": 270,
   "metadata": {},
   "outputs": [
    {
     "data": {
      "text/plain": [
       "array([[0.00695014, 0.00695014, 0.00695014, 0.00695045, 0.00695982,\n",
       "        0.00699194, 0.00698124, 0.0067676 , 0.30635135],\n",
       "       [0.01049788, 0.01049003, 0.01041519, 0.00989325, 0.00864088,\n",
       "        0.00818439, 0.00790308, 0.08144964,        inf],\n",
       "       [0.02952932, 0.0291486 , 0.02602521, 0.01580961, 0.0108443 ,\n",
       "        0.01035193, 0.00925391, 0.38997529, 0.46924242],\n",
       "       [0.13849476, 0.1227039 , 0.0589513 , 0.01877686, 0.01446806,\n",
       "        0.01374011, 0.0269503 , 0.32704678,        inf],\n",
       "       [0.64595213, 0.37694394, 0.06536399, 0.02236265, 0.01967519,\n",
       "        0.01831733, 0.17193501, 1.71999489,        inf]])"
      ]
     },
     "execution_count": 270,
     "metadata": {},
     "output_type": "execute_result"
    }
   ],
   "source": [
    "table_exp_mix"
   ]
  },
  {
   "cell_type": "code",
   "execution_count": 204,
   "metadata": {},
   "outputs": [],
   "source": [
    "table_fomaml = np.load('datasets/grid_search_fomaml_{}.npy'.format(exp_keyword))"
   ]
  },
  {
   "cell_type": "code",
   "execution_count": 205,
   "metadata": {},
   "outputs": [
    {
     "data": {
      "text/plain": [
       "array([[0.64589567, 0.64587641, 0.64568394, 0.64376315, 0.62494392,\n",
       "        0.47096606, 0.09724102, 0.0182638 ,        inf,        inf],\n",
       "       [0.37666133, 0.37665668, 0.37661085, 0.37615343, 0.37156805,\n",
       "        0.32547483, 0.09551335, 0.01829037,        inf,        inf],\n",
       "       [0.06509009, 0.06509033, 0.06509273, 0.06511655, 0.0653565 ,\n",
       "        0.06790794, 0.075193  , 0.01874979,        inf,        inf],\n",
       "       [0.0222166 , 0.02221655, 0.02221602, 0.02221073, 0.02215799,\n",
       "        0.02165788, 0.01958494, 0.02147328,        inf,        inf],\n",
       "       [0.01983845, 0.01983839, 0.01983781, 0.01983201, 0.01977427,\n",
       "        0.01922201, 0.01629181, 0.02134471,        inf,        inf],\n",
       "       [0.0190393 , 0.01903925, 0.01903876, 0.01903377, 0.01898418,\n",
       "        0.01851301, 0.01595223, 0.01648733,        inf,        inf],\n",
       "       [0.17235454, 0.17235053, 0.17231028, 0.17190764, 0.16785864,\n",
       "        0.13611907, 0.01543681, 0.01489707,        inf,        inf],\n",
       "       [1.72413712, 1.72409825, 1.72370736, 1.71980229, 1.68114788,\n",
       "        1.33744949, 0.27762608,        inf,        inf,        inf],\n",
       "       [       inf,        inf,        inf,        inf,        inf,\n",
       "               inf,        inf,        inf,        inf,        inf],\n",
       "       [       inf,        inf,        inf,        inf,        inf,\n",
       "               inf,        inf,        inf,        inf,        inf]])"
      ]
     },
     "execution_count": 205,
     "metadata": {},
     "output_type": "execute_result"
    }
   ],
   "source": [
    "table_fomaml"
   ]
  },
  {
   "cell_type": "code",
   "execution_count": 246,
   "metadata": {},
   "outputs": [],
   "source": [
    "table_reptile = np.load('datasets/grid_search_reptile_{}.npy'.format(exp_keyword))"
   ]
  },
  {
   "cell_type": "code",
   "execution_count": 247,
   "metadata": {},
   "outputs": [
    {
     "data": {
      "text/plain": [
       "array([[0.64594736, 0.64593017, 0.64573146, 0.64374984, 0.62435911,\n",
       "        0.4674625 , 0.0969091 , 0.01816739,        inf,        inf],\n",
       "       [0.37685809, 0.37693673, 0.37686546, 0.37616227, 0.36922114,\n",
       "        0.30832026, 0.09233995, 0.01766326,        inf,        inf],\n",
       "       [0.07123748, 0.06532036, 0.06536362, 0.06535517, 0.06527675,\n",
       "        0.06448189, 0.05512173, 0.01673114,        inf,        inf],\n",
       "       [0.07043495, 0.02678089, 0.02238381, 0.02235639, 0.02229907,\n",
       "        0.02175281, 0.01908836, 0.02127916,        inf,        inf],\n",
       "       [0.06706499, 0.02650001, 0.01978808, 0.01967279, 0.01961085,\n",
       "        0.01905765, 0.01626699, 0.01699948,        inf,        inf],\n",
       "       [0.02417   , 0.02462564, 0.01851842, 0.01831019, 0.01826169,\n",
       "        0.01778881, 0.01538371, 0.01592699,        inf,        inf],\n",
       "       [0.17199963, 0.17199788, 0.17198163, 0.17181855, 0.17019601,\n",
       "        0.18307559, 0.03270606, 0.01087915,        inf,        inf],\n",
       "       [1.71999632, 1.71997953, 1.71982325, 1.71825455, 1.70265007,\n",
       "        1.55529781, 0.79425936, 0.24192881,        inf,        inf],\n",
       "       [       inf,        inf,        inf,        inf,        inf,\n",
       "               inf,        inf,        inf,        inf,        inf],\n",
       "       [       inf,        inf,        inf,        inf,        inf,\n",
       "               inf,        inf,        inf,        inf,        inf]])"
      ]
     },
     "execution_count": 247,
     "metadata": {},
     "output_type": "execute_result"
    }
   ],
   "source": [
    "table_reptile"
   ]
  },
  {
   "cell_type": "markdown",
   "metadata": {},
   "source": [
    "# Experiments"
   ]
  },
  {
   "cell_type": "markdown",
   "metadata": {},
   "source": [
    "## Setting best stepsizes"
   ]
  },
  {
   "cell_type": "markdown",
   "metadata": {},
   "source": [
    "### Explicit Mixture"
   ]
  },
  {
   "cell_type": "code",
   "execution_count": 66,
   "metadata": {},
   "outputs": [],
   "source": [
    "import pandas as pd"
   ]
  },
  {
   "cell_type": "code",
   "execution_count": 67,
   "metadata": {},
   "outputs": [],
   "source": [
    "import seaborn as sns"
   ]
  },
  {
   "cell_type": "code",
   "execution_count": 68,
   "metadata": {},
   "outputs": [
    {
     "data": {
      "text/plain": [
       "array([0.2, 0.4, 0.6, 0.8, 1. ])"
      ]
     },
     "execution_count": 68,
     "metadata": {},
     "output_type": "execute_result"
    }
   ],
   "source": [
    "alphas"
   ]
  },
  {
   "cell_type": "code",
   "execution_count": 283,
   "metadata": {},
   "outputs": [
    {
     "data": {
      "text/plain": [
       "array([[0.00695014, 0.00695014, 0.00695014, 0.00695045, 0.00695982,\n",
       "        0.00699194, 0.00698124, 0.0067676 , 0.30635135],\n",
       "       [0.01049788, 0.01049003, 0.01041519, 0.00989325, 0.00864088,\n",
       "        0.00818439, 0.00790308, 0.08144964,        inf],\n",
       "       [0.02952932, 0.0291486 , 0.02602521, 0.01580961, 0.0108443 ,\n",
       "        0.01035193, 0.00925391, 0.38997529, 0.46924242],\n",
       "       [0.13849476, 0.1227039 , 0.0589513 , 0.01877686, 0.01446806,\n",
       "        0.01374011, 0.0269503 , 0.32704678,        inf],\n",
       "       [0.64595213, 0.37694394, 0.06536399, 0.02236265, 0.01967519,\n",
       "        0.01831733, 0.17193501, 1.71999489,        inf]])"
      ]
     },
     "execution_count": 283,
     "metadata": {},
     "output_type": "execute_result"
    }
   ],
   "source": [
    "table_exp_mix"
   ]
  },
  {
   "cell_type": "code",
   "execution_count": 272,
   "metadata": {},
   "outputs": [
    {
     "data": {
      "text/plain": [
       "(5, 9)"
      ]
     },
     "execution_count": 272,
     "metadata": {},
     "output_type": "execute_result"
    }
   ],
   "source": [
    "table_exp_mix.shape"
   ]
  },
  {
   "cell_type": "code",
   "execution_count": 273,
   "metadata": {},
   "outputs": [],
   "source": [
    "df_exp_mix = pd.DataFrame(table_exp_mix, columns=list(range(-2, 7)), index=[0.2, 0.4, 0.6, 0.8, 1.0])"
   ]
  },
  {
   "cell_type": "code",
   "execution_count": 290,
   "metadata": {},
   "outputs": [],
   "source": [
    "df_exp_mix.replace([np.inf, -np.inf], np.nan, inplace=True)"
   ]
  },
  {
   "cell_type": "code",
   "execution_count": 274,
   "metadata": {},
   "outputs": [],
   "source": [
    "cm = sns.light_palette('green', as_cmap=True)"
   ]
  },
  {
   "cell_type": "code",
   "execution_count": 294,
   "metadata": {},
   "outputs": [
    {
     "data": {
      "text/plain": [
       "0.2    0.306351\n",
       "0.4    0.081450\n",
       "0.6    0.469242\n",
       "0.8    0.327047\n",
       "1.0    1.719995\n",
       "dtype: float64"
      ]
     },
     "execution_count": 294,
     "metadata": {},
     "output_type": "execute_result"
    }
   ],
   "source": [
    "df_exp_mix.max(axis=1)"
   ]
  },
  {
   "cell_type": "code",
   "execution_count": 295,
   "metadata": {},
   "outputs": [],
   "source": [
    "tab_n = df_exp_mix.div(df_exp_mix.max(axis=1), axis=0)"
   ]
  },
  {
   "cell_type": "code",
   "execution_count": 296,
   "metadata": {},
   "outputs": [
    {
     "data": {
      "text/html": [
       "<div>\n",
       "<style scoped>\n",
       "    .dataframe tbody tr th:only-of-type {\n",
       "        vertical-align: middle;\n",
       "    }\n",
       "\n",
       "    .dataframe tbody tr th {\n",
       "        vertical-align: top;\n",
       "    }\n",
       "\n",
       "    .dataframe thead th {\n",
       "        text-align: right;\n",
       "    }\n",
       "</style>\n",
       "<table border=\"1\" class=\"dataframe\">\n",
       "  <thead>\n",
       "    <tr style=\"text-align: right;\">\n",
       "      <th></th>\n",
       "      <th>-2</th>\n",
       "      <th>-1</th>\n",
       "      <th>0</th>\n",
       "      <th>1</th>\n",
       "      <th>2</th>\n",
       "      <th>3</th>\n",
       "      <th>4</th>\n",
       "      <th>5</th>\n",
       "      <th>6</th>\n",
       "    </tr>\n",
       "  </thead>\n",
       "  <tbody>\n",
       "    <tr>\n",
       "      <th>0.2</th>\n",
       "      <td>0.022687</td>\n",
       "      <td>0.022687</td>\n",
       "      <td>0.022687</td>\n",
       "      <td>0.022688</td>\n",
       "      <td>0.022718</td>\n",
       "      <td>0.022823</td>\n",
       "      <td>0.022788</td>\n",
       "      <td>0.022091</td>\n",
       "      <td>1.0</td>\n",
       "    </tr>\n",
       "    <tr>\n",
       "      <th>0.4</th>\n",
       "      <td>0.128888</td>\n",
       "      <td>0.128792</td>\n",
       "      <td>0.127873</td>\n",
       "      <td>0.121465</td>\n",
       "      <td>0.106089</td>\n",
       "      <td>0.100484</td>\n",
       "      <td>0.097030</td>\n",
       "      <td>1.000000</td>\n",
       "      <td>NaN</td>\n",
       "    </tr>\n",
       "    <tr>\n",
       "      <th>0.6</th>\n",
       "      <td>0.062930</td>\n",
       "      <td>0.062118</td>\n",
       "      <td>0.055462</td>\n",
       "      <td>0.033692</td>\n",
       "      <td>0.023110</td>\n",
       "      <td>0.022061</td>\n",
       "      <td>0.019721</td>\n",
       "      <td>0.831074</td>\n",
       "      <td>1.0</td>\n",
       "    </tr>\n",
       "    <tr>\n",
       "      <th>0.8</th>\n",
       "      <td>0.423471</td>\n",
       "      <td>0.375188</td>\n",
       "      <td>0.180253</td>\n",
       "      <td>0.057413</td>\n",
       "      <td>0.044239</td>\n",
       "      <td>0.042013</td>\n",
       "      <td>0.082405</td>\n",
       "      <td>1.000000</td>\n",
       "      <td>NaN</td>\n",
       "    </tr>\n",
       "    <tr>\n",
       "      <th>1.0</th>\n",
       "      <td>0.375555</td>\n",
       "      <td>0.219154</td>\n",
       "      <td>0.038002</td>\n",
       "      <td>0.013002</td>\n",
       "      <td>0.011439</td>\n",
       "      <td>0.010650</td>\n",
       "      <td>0.099963</td>\n",
       "      <td>1.000000</td>\n",
       "      <td>NaN</td>\n",
       "    </tr>\n",
       "  </tbody>\n",
       "</table>\n",
       "</div>"
      ],
      "text/plain": [
       "           -2        -1         0         1         2         3         4  \\\n",
       "0.2  0.022687  0.022687  0.022687  0.022688  0.022718  0.022823  0.022788   \n",
       "0.4  0.128888  0.128792  0.127873  0.121465  0.106089  0.100484  0.097030   \n",
       "0.6  0.062930  0.062118  0.055462  0.033692  0.023110  0.022061  0.019721   \n",
       "0.8  0.423471  0.375188  0.180253  0.057413  0.044239  0.042013  0.082405   \n",
       "1.0  0.375555  0.219154  0.038002  0.013002  0.011439  0.010650  0.099963   \n",
       "\n",
       "            5    6  \n",
       "0.2  0.022091  1.0  \n",
       "0.4  1.000000  NaN  \n",
       "0.6  0.831074  1.0  \n",
       "0.8  1.000000  NaN  \n",
       "1.0  1.000000  NaN  "
      ]
     },
     "execution_count": 296,
     "metadata": {},
     "output_type": "execute_result"
    }
   ],
   "source": [
    "tab_n"
   ]
  },
  {
   "cell_type": "code",
   "execution_count": 299,
   "metadata": {},
   "outputs": [],
   "source": [
    "# fig, ax = plt.subplots(figsize=(18,10))     \n",
    "# s_exp_mix = sns.heatmap(tab_n, linewidths=.5, cmap=cm, annot=np.log(table_exp_mix), cbar=False, annot_kws={'fontsize': 'xx-large'}, fmt='.3f', mask=tab_n.isnull())\n",
    "# ax.set_title('Validation loss on Grid Search')\n",
    "# ax.axes.set_xlabel('stepsize')\n",
    "# ax.axes.set_ylabel('alpha')\n",
    "# ax.axes.set_facecolor('grey')\n",
    "# ax.figure.patches.extend([plt.Rectangle((0.644,0.734),0.081, 0.142, ec='red', lw=5,\n",
    "#                                   fill=False, alpha=0.5, zorder=1000,\n",
    "#                                   transform=fig.transFigure, figure=fig), \n",
    "#                           plt.Rectangle((0.644,0.583),0.081, 0.142, ec='red', lw=5,\n",
    "#                                   fill=False, alpha=0.5, zorder=1000,\n",
    "#                                   transform=fig.transFigure, figure=fig),\n",
    "#                           plt.Rectangle((0.558,0.432),0.081, 0.143, ec='red', lw=5,\n",
    "#                                   fill=False, alpha=0.5, zorder=1000,\n",
    "#                                   transform=fig.transFigure, figure=fig),\n",
    "#                           plt.Rectangle((0.558,0.281),0.081, 0.142, ec='red', lw=5,\n",
    "#                                   fill=False, alpha=0.5, zorder=1000,\n",
    "#                                   transform=fig.transFigure, figure=fig),\n",
    "#                           plt.Rectangle((0.472,0.130),0.081, 0.142, ec='red', lw=5,\n",
    "#                                   fill=False, alpha=0.5, zorder=1000,\n",
    "#                                   transform=fig.transFigure, figure=fig)])\n",
    "# # fig.savefig(PLOT_PATH + '/grid_search.pdf')"
   ]
  },
  {
   "cell_type": "code",
   "execution_count": 310,
   "metadata": {},
   "outputs": [
    {
     "data": {
      "image/png": "[encoded data removed]",
      "text/plain": [
       "<Figure size 1296x720 with 1 Axes>"
      ]
     },
     "metadata": {
      "needs_background": "light"
     },
     "output_type": "display_data"
    }
   ],
   "source": [
    "fig, ax = plt.subplots(figsize=(18,10))     \n",
    "s_exp_mix = sns.heatmap(tab_n, linewidths=.5, cmap=cm, annot=np.log(table_exp_mix), cbar=False, annot_kws={'fontsize': 'xx-large'}, fmt='.3f', mask=tab_n.isnull())\n",
    "ax.set_title('Validation loss on Grid Search')\n",
    "ax.axes.set_xlabel('stepsize')\n",
    "ax.axes.set_ylabel('alpha')\n",
    "ax.axes.set_facecolor('grey')\n",
    "ax.figure.patches.extend([plt.Rectangle((0.73,0.734),0.081, 0.142, ec='red', lw=5,\n",
    "                                  fill=False, alpha=0.5, zorder=1000,\n",
    "                                  transform=fig.transFigure, figure=fig), \n",
    "                          plt.Rectangle((0.644,0.583),0.081, 0.142, ec='red', lw=5,\n",
    "                                  fill=False, alpha=0.5, zorder=1000,\n",
    "                                  transform=fig.transFigure, figure=fig),\n",
    "                          plt.Rectangle((0.644,0.432),0.081, 0.143, ec='red', lw=5,\n",
    "                                  fill=False, alpha=0.5, zorder=1000,\n",
    "                                  transform=fig.transFigure, figure=fig),\n",
    "                          plt.Rectangle((0.558,0.281),0.081, 0.142, ec='red', lw=5,\n",
    "                                  fill=False, alpha=0.5, zorder=1000,\n",
    "                                  transform=fig.transFigure, figure=fig),\n",
    "                          plt.Rectangle((0.558,0.130),0.081, 0.142, ec='red', lw=5,\n",
    "                                  fill=False, alpha=0.5, zorder=1000,\n",
    "                                  transform=fig.transFigure, figure=fig)])\n",
    "fig.savefig(PLOT_PATH + '/grid_search_{}.pdf'.format(exp_keyword))"
   ]
  },
  {
   "cell_type": "code",
   "execution_count": 277,
   "metadata": {},
   "outputs": [
    {
     "name": "stderr",
     "output_type": "stream",
     "text": [
      "/home/gasanoe/anaconda3/envs/explicit_2/lib/python3.8/site-packages/matplotlib/colors.py:1062: RuntimeWarning: invalid value encountered in true_divide\n",
      "  resdat /= (vmax - vmin)\n"
     ]
    },
    {
     "data": {
      "image/png": "[encoded data removed]",
      "text/plain": [
       "<Figure size 1296x720 with 1 Axes>"
      ]
     },
     "metadata": {
      "needs_background": "light"
     },
     "output_type": "display_data"
    }
   ],
   "source": [
    "fig, ax = plt.subplots(figsize=(18,10))     \n",
    "s_exp_mix = sns.heatmap(np.log(table_exp_mix), linewidths=.5, cmap=cm, annot=True, cbar=False, annot_kws={'fontsize': 'xx-large'}, fmt='.3f')\n",
    "ax.set_title('Validation loss on Grid Search')\n",
    "ax.axes.set_xlabel('stepsize')\n",
    "ax.axes.set_ylabel('alpha')\n",
    "ax.axes.set_facecolor('grey')\n",
    "ax.figure.patches.extend([plt.Rectangle((0.644,0.734),0.081, 0.142, ec='red', lw=5,\n",
    "                                  fill=False, alpha=0.5, zorder=1000,\n",
    "                                  transform=fig.transFigure, figure=fig), \n",
    "                          plt.Rectangle((0.644,0.583),0.081, 0.142, ec='red', lw=5,\n",
    "                                  fill=False, alpha=0.5, zorder=1000,\n",
    "                                  transform=fig.transFigure, figure=fig),\n",
    "                          plt.Rectangle((0.558,0.432),0.081, 0.143, ec='red', lw=5,\n",
    "                                  fill=False, alpha=0.5, zorder=1000,\n",
    "                                  transform=fig.transFigure, figure=fig),\n",
    "                          plt.Rectangle((0.558,0.281),0.081, 0.142, ec='red', lw=5,\n",
    "                                  fill=False, alpha=0.5, zorder=1000,\n",
    "                                  transform=fig.transFigure, figure=fig),\n",
    "                          plt.Rectangle((0.472,0.130),0.081, 0.142, ec='red', lw=5,\n",
    "                                  fill=False, alpha=0.5, zorder=1000,\n",
    "                                  transform=fig.transFigure, figure=fig)])\n",
    "# fig.savefig(PLOT_PATH + '/grid_search.pdf')"
   ]
  },
  {
   "cell_type": "code",
   "execution_count": 115,
   "metadata": {},
   "outputs": [],
   "source": [
    "s_exp_mix = df_exp_mix.style.background_gradient(cmap=cm, axis=1)"
   ]
  },
  {
   "cell_type": "code",
   "execution_count": 116,
   "metadata": {},
   "outputs": [
    {
     "data": {
      "text/html": [
       "<style  type=\"text/css\" >\n",
       "#T_867d3_row0_col0,#T_867d3_row0_col1,#T_867d3_row0_col2,#T_867d3_row0_col3,#T_867d3_row0_col4,#T_867d3_row0_col5{\n",
       "            background-color:  #e7f1e7;\n",
       "            color:  #000000;\n",
       "        }#T_867d3_row0_col6,#T_867d3_row1_col6,#T_867d3_row2_col5,#T_867d3_row3_col5,#T_867d3_row4_col4{\n",
       "            background-color:  #ebf3eb;\n",
       "            color:  #000000;\n",
       "        }#T_867d3_row0_col7,#T_867d3_row1_col8,#T_867d3_row2_col7,#T_867d3_row3_col6,#T_867d3_row4_col6{\n",
       "            background-color:  #008000;\n",
       "            color:  #f1f1f1;\n",
       "        }#T_867d3_row0_col8{\n",
       "            background-color:  #64b164;\n",
       "            color:  #000000;\n",
       "        }#T_867d3_row1_col0,#T_867d3_row1_col1,#T_867d3_row1_col2,#T_867d3_row1_col3{\n",
       "            background-color:  #cfe5cf;\n",
       "            color:  #000000;\n",
       "        }#T_867d3_row1_col4{\n",
       "            background-color:  #d1e6d1;\n",
       "            color:  #000000;\n",
       "        }#T_867d3_row1_col5{\n",
       "            background-color:  #d9ead9;\n",
       "            color:  #000000;\n",
       "        }#T_867d3_row1_col7{\n",
       "            background-color:  #86c286;\n",
       "            color:  #000000;\n",
       "        }#T_867d3_row2_col0,#T_867d3_row2_col1,#T_867d3_row2_col2,#T_867d3_row2_col8{\n",
       "            background-color:  #60af60;\n",
       "            color:  #000000;\n",
       "        }#T_867d3_row2_col3{\n",
       "            background-color:  #61b061;\n",
       "            color:  #000000;\n",
       "        }#T_867d3_row2_col4{\n",
       "            background-color:  #72b872;\n",
       "            color:  #000000;\n",
       "        }#T_867d3_row2_col6{\n",
       "            background-color:  #c6e1c6;\n",
       "            color:  #000000;\n",
       "        }#T_867d3_row3_col0,#T_867d3_row3_col1,#T_867d3_row3_col7,#T_867d3_row3_col8{\n",
       "            background-color:  #219021;\n",
       "            color:  #000000;\n",
       "        }#T_867d3_row3_col2{\n",
       "            background-color:  #229122;\n",
       "            color:  #000000;\n",
       "        }#T_867d3_row3_col3{\n",
       "            background-color:  #279327;\n",
       "            color:  #000000;\n",
       "        }#T_867d3_row3_col4{\n",
       "            background-color:  #4ca54c;\n",
       "            color:  #000000;\n",
       "        }#T_867d3_row4_col0,#T_867d3_row4_col7,#T_867d3_row4_col8{\n",
       "            background-color:  #128912;\n",
       "            color:  #f1f1f1;\n",
       "        }#T_867d3_row4_col1{\n",
       "            background-color:  #138913;\n",
       "            color:  #f1f1f1;\n",
       "        }#T_867d3_row4_col2{\n",
       "            background-color:  #168b16;\n",
       "            color:  #000000;\n",
       "        }#T_867d3_row4_col3{\n",
       "            background-color:  #309730;\n",
       "            color:  #000000;\n",
       "        }#T_867d3_row4_col5{\n",
       "            background-color:  #299429;\n",
       "            color:  #000000;\n",
       "        }</style><table id=\"T_867d3_\" ><thead>    <tr>        <th class=\"blank level0\" ></th>        <th class=\"col_heading level0 col0\" >-2</th>        <th class=\"col_heading level0 col1\" >-1</th>        <th class=\"col_heading level0 col2\" >0</th>        <th class=\"col_heading level0 col3\" >1</th>        <th class=\"col_heading level0 col4\" >2</th>        <th class=\"col_heading level0 col5\" >3</th>        <th class=\"col_heading level0 col6\" >4</th>        <th class=\"col_heading level0 col7\" >5</th>        <th class=\"col_heading level0 col8\" >6</th>    </tr></thead><tbody>\n",
       "                <tr>\n",
       "                        <th id=\"T_867d3_level0_row0\" class=\"row_heading level0 row0\" >0.2</th>\n",
       "                        <td id=\"T_867d3_row0_col0\" class=\"data row0 col0\" >0.015181</td>\n",
       "                        <td id=\"T_867d3_row0_col1\" class=\"data row0 col1\" >0.015181</td>\n",
       "                        <td id=\"T_867d3_row0_col2\" class=\"data row0 col2\" >0.015181</td>\n",
       "                        <td id=\"T_867d3_row0_col3\" class=\"data row0 col3\" >0.015181</td>\n",
       "                        <td id=\"T_867d3_row0_col4\" class=\"data row0 col4\" >0.015180</td>\n",
       "                        <td id=\"T_867d3_row0_col5\" class=\"data row0 col5\" >0.015164</td>\n",
       "                        <td id=\"T_867d3_row0_col6\" class=\"data row0 col6\" >0.015021</td>\n",
       "                        <td id=\"T_867d3_row0_col7\" class=\"data row0 col7\" >0.023846</td>\n",
       "                        <td id=\"T_867d3_row0_col8\" class=\"data row0 col8\" >0.020088</td>\n",
       "            </tr>\n",
       "            <tr>\n",
       "                        <th id=\"T_867d3_level0_row1\" class=\"row_heading level0 row1\" >0.4</th>\n",
       "                        <td id=\"T_867d3_row1_col0\" class=\"data row1 col0\" >0.028716</td>\n",
       "                        <td id=\"T_867d3_row1_col1\" class=\"data row1 col1\" >0.028716</td>\n",
       "                        <td id=\"T_867d3_row1_col2\" class=\"data row1 col2\" >0.028715</td>\n",
       "                        <td id=\"T_867d3_row1_col3\" class=\"data row1 col3\" >0.028709</td>\n",
       "                        <td id=\"T_867d3_row1_col4\" class=\"data row1 col4\" >0.028645</td>\n",
       "                        <td id=\"T_867d3_row1_col5\" class=\"data row1 col5\" >0.028047</td>\n",
       "                        <td id=\"T_867d3_row1_col6\" class=\"data row1 col6\" >0.026871</td>\n",
       "                        <td id=\"T_867d3_row1_col7\" class=\"data row1 col7\" >0.033577</td>\n",
       "                        <td id=\"T_867d3_row1_col8\" class=\"data row1 col8\" >0.042550</td>\n",
       "            </tr>\n",
       "            <tr>\n",
       "                        <th id=\"T_867d3_level0_row2\" class=\"row_heading level0 row2\" >0.6</th>\n",
       "                        <td id=\"T_867d3_row2_col0\" class=\"data row2 col0\" >0.078171</td>\n",
       "                        <td id=\"T_867d3_row2_col1\" class=\"data row2 col1\" >0.078170</td>\n",
       "                        <td id=\"T_867d3_row2_col2\" class=\"data row2 col2\" >0.078154</td>\n",
       "                        <td id=\"T_867d3_row2_col3\" class=\"data row2 col3\" >0.078001</td>\n",
       "                        <td id=\"T_867d3_row2_col4\" class=\"data row2 col4\" >0.076521</td>\n",
       "                        <td id=\"T_867d3_row2_col5\" class=\"data row2 col5\" >0.065419</td>\n",
       "                        <td id=\"T_867d3_row2_col6\" class=\"data row2 col6\" >0.068822</td>\n",
       "                        <td id=\"T_867d3_row2_col7\" class=\"data row2 col7\" >0.086977</td>\n",
       "                        <td id=\"T_867d3_row2_col8\" class=\"data row2 col8\" >0.078171</td>\n",
       "            </tr>\n",
       "            <tr>\n",
       "                        <th id=\"T_867d3_level0_row3\" class=\"row_heading level0 row3\" >0.8</th>\n",
       "                        <td id=\"T_867d3_row3_col0\" class=\"data row3 col0\" >0.243521</td>\n",
       "                        <td id=\"T_867d3_row3_col1\" class=\"data row3 col1\" >0.243495</td>\n",
       "                        <td id=\"T_867d3_row3_col2\" class=\"data row3 col2\" >0.243237</td>\n",
       "                        <td id=\"T_867d3_row3_col3\" class=\"data row3 col3\" >0.240700</td>\n",
       "                        <td id=\"T_867d3_row3_col4\" class=\"data row3 col4\" >0.218758</td>\n",
       "                        <td id=\"T_867d3_row3_col5\" class=\"data row3 col5\" >0.128166</td>\n",
       "                        <td id=\"T_867d3_row3_col6\" class=\"data row3 col6\" >0.262919</td>\n",
       "                        <td id=\"T_867d3_row3_col7\" class=\"data row3 col7\" >0.243524</td>\n",
       "                        <td id=\"T_867d3_row3_col8\" class=\"data row3 col8\" >0.243524</td>\n",
       "            </tr>\n",
       "            <tr>\n",
       "                        <th id=\"T_867d3_level0_row4\" class=\"row_heading level0 row4\" >1.0</th>\n",
       "                        <td id=\"T_867d3_row4_col0\" class=\"data row4 col0\" >0.693122</td>\n",
       "                        <td id=\"T_867d3_row4_col1\" class=\"data row4 col1\" >0.692898</td>\n",
       "                        <td id=\"T_867d3_row4_col2\" class=\"data row4 col2\" >0.690666</td>\n",
       "                        <td id=\"T_867d3_row4_col3\" class=\"data row4 col3\" >0.669155</td>\n",
       "                        <td id=\"T_867d3_row4_col4\" class=\"data row4 col4\" >0.513631</td>\n",
       "                        <td id=\"T_867d3_row4_col5\" class=\"data row4 col5\" >0.673957</td>\n",
       "                        <td id=\"T_867d3_row4_col6\" class=\"data row4 col6\" >0.709051</td>\n",
       "                        <td id=\"T_867d3_row4_col7\" class=\"data row4 col7\" >0.693147</td>\n",
       "                        <td id=\"T_867d3_row4_col8\" class=\"data row4 col8\" >0.693147</td>\n",
       "            </tr>\n",
       "    </tbody></table>"
      ],
      "text/plain": [
       "<pandas.io.formats.style.Styler at 0x7fd4ca703370>"
      ]
     },
     "execution_count": 116,
     "metadata": {},
     "output_type": "execute_result"
    }
   ],
   "source": [
    "s_exp_mix"
   ]
  },
  {
   "cell_type": "code",
   "execution_count": 278,
   "metadata": {},
   "outputs": [],
   "source": [
    "arg_mix_exp_mix = np.argmin(table_exp_mix, axis=1)"
   ]
  },
  {
   "cell_type": "code",
   "execution_count": 279,
   "metadata": {},
   "outputs": [
    {
     "data": {
      "text/plain": [
       "array([7, 6, 6, 5, 5])"
      ]
     },
     "execution_count": 279,
     "metadata": {},
     "output_type": "execute_result"
    }
   ],
   "source": [
    "arg_mix_exp_mix"
   ]
  },
  {
   "cell_type": "code",
   "execution_count": 81,
   "metadata": {},
   "outputs": [],
   "source": [
    "best_explicit_mixture_stepsizes = [Explicit_Mixture_stepsizes(alphas[i], pows)[arg_mix_exp_mix[i]] for i in range(len(alphas))]"
   ]
  },
  {
   "cell_type": "code",
   "execution_count": null,
   "metadata": {},
   "outputs": [],
   "source": [
    "# stepsizes = [2**x for x in range(-8, 17, 4)]"
   ]
  },
  {
   "cell_type": "code",
   "execution_count": null,
   "metadata": {},
   "outputs": [],
   "source": [
    "# best_explicit_mixture_stepsizes = [stepsizes[arg_mix_exp_mix[i]] for i in range(len(alphas))]"
   ]
  },
  {
   "cell_type": "code",
   "execution_count": 82,
   "metadata": {},
   "outputs": [
    {
     "data": {
      "text/plain": [
       "[500000.0, 50000.0, 50000.0, 5000.0, 5000.0]"
      ]
     },
     "execution_count": 82,
     "metadata": {},
     "output_type": "execute_result"
    }
   ],
   "source": [
    "best_explicit_mixture_stepsizes"
   ]
  },
  {
   "cell_type": "markdown",
   "metadata": {},
   "source": [
    "### FOMAML"
   ]
  },
  {
   "cell_type": "code",
   "execution_count": 206,
   "metadata": {},
   "outputs": [
    {
     "data": {
      "text/plain": [
       "array([[0.64589567, 0.64587641, 0.64568394, 0.64376315, 0.62494392,\n",
       "        0.47096606, 0.09724102, 0.0182638 ,        inf,        inf],\n",
       "       [0.37666133, 0.37665668, 0.37661085, 0.37615343, 0.37156805,\n",
       "        0.32547483, 0.09551335, 0.01829037,        inf,        inf],\n",
       "       [0.06509009, 0.06509033, 0.06509273, 0.06511655, 0.0653565 ,\n",
       "        0.06790794, 0.075193  , 0.01874979,        inf,        inf],\n",
       "       [0.0222166 , 0.02221655, 0.02221602, 0.02221073, 0.02215799,\n",
       "        0.02165788, 0.01958494, 0.02147328,        inf,        inf],\n",
       "       [0.01983845, 0.01983839, 0.01983781, 0.01983201, 0.01977427,\n",
       "        0.01922201, 0.01629181, 0.02134471,        inf,        inf],\n",
       "       [0.0190393 , 0.01903925, 0.01903876, 0.01903377, 0.01898418,\n",
       "        0.01851301, 0.01595223, 0.01648733,        inf,        inf],\n",
       "       [0.17235454, 0.17235053, 0.17231028, 0.17190764, 0.16785864,\n",
       "        0.13611907, 0.01543681, 0.01489707,        inf,        inf],\n",
       "       [1.72413712, 1.72409825, 1.72370736, 1.71980229, 1.68114788,\n",
       "        1.33744949, 0.27762608,        inf,        inf,        inf],\n",
       "       [       inf,        inf,        inf,        inf,        inf,\n",
       "               inf,        inf,        inf,        inf,        inf],\n",
       "       [       inf,        inf,        inf,        inf,        inf,\n",
       "               inf,        inf,        inf,        inf,        inf]])"
      ]
     },
     "execution_count": 206,
     "metadata": {},
     "output_type": "execute_result"
    }
   ],
   "source": [
    "table_fomaml"
   ]
  },
  {
   "cell_type": "code",
   "execution_count": 207,
   "metadata": {},
   "outputs": [],
   "source": [
    "arg_min_f = np.argmin(table_fomaml)\n",
    "arg_min_outer_f = int(arg_min_f / table_fomaml.shape[1])\n",
    "arg_min_inner_f = arg_min_f % table_fomaml.shape[1]"
   ]
  },
  {
   "cell_type": "code",
   "execution_count": 208,
   "metadata": {},
   "outputs": [
    {
     "data": {
      "text/plain": [
       "6"
      ]
     },
     "execution_count": 208,
     "metadata": {},
     "output_type": "execute_result"
    }
   ],
   "source": [
    "arg_min_outer_f"
   ]
  },
  {
   "cell_type": "code",
   "execution_count": 209,
   "metadata": {},
   "outputs": [
    {
     "data": {
      "text/plain": [
       "7"
      ]
     },
     "execution_count": 209,
     "metadata": {},
     "output_type": "execute_result"
    }
   ],
   "source": [
    "arg_min_inner_f"
   ]
  },
  {
   "cell_type": "code",
   "execution_count": 210,
   "metadata": {},
   "outputs": [],
   "source": [
    "best_fomaml_outer = outer_loop_stepsizes[arg_min_outer_f]\n",
    "best_fomaml_inner = inner_loop_stepsizes[arg_min_inner_f]"
   ]
  },
  {
   "cell_type": "code",
   "execution_count": 211,
   "metadata": {},
   "outputs": [
    {
     "data": {
      "text/plain": [
       "50000.0"
      ]
     },
     "execution_count": 211,
     "metadata": {},
     "output_type": "execute_result"
    }
   ],
   "source": [
    "best_fomaml_outer"
   ]
  },
  {
   "cell_type": "code",
   "execution_count": 212,
   "metadata": {},
   "outputs": [
    {
     "data": {
      "text/plain": [
       "10000"
      ]
     },
     "execution_count": 212,
     "metadata": {},
     "output_type": "execute_result"
    }
   ],
   "source": [
    "best_fomaml_inner"
   ]
  },
  {
   "cell_type": "markdown",
   "metadata": {},
   "source": [
    "### Reptile"
   ]
  },
  {
   "cell_type": "code",
   "execution_count": 248,
   "metadata": {},
   "outputs": [
    {
     "data": {
      "text/plain": [
       "array([[0.64594736, 0.64593017, 0.64573146, 0.64374984, 0.62435911,\n",
       "        0.4674625 , 0.0969091 , 0.01816739,        inf,        inf],\n",
       "       [0.37685809, 0.37693673, 0.37686546, 0.37616227, 0.36922114,\n",
       "        0.30832026, 0.09233995, 0.01766326,        inf,        inf],\n",
       "       [0.07123748, 0.06532036, 0.06536362, 0.06535517, 0.06527675,\n",
       "        0.06448189, 0.05512173, 0.01673114,        inf,        inf],\n",
       "       [0.07043495, 0.02678089, 0.02238381, 0.02235639, 0.02229907,\n",
       "        0.02175281, 0.01908836, 0.02127916,        inf,        inf],\n",
       "       [0.06706499, 0.02650001, 0.01978808, 0.01967279, 0.01961085,\n",
       "        0.01905765, 0.01626699, 0.01699948,        inf,        inf],\n",
       "       [0.02417   , 0.02462564, 0.01851842, 0.01831019, 0.01826169,\n",
       "        0.01778881, 0.01538371, 0.01592699,        inf,        inf],\n",
       "       [0.17199963, 0.17199788, 0.17198163, 0.17181855, 0.17019601,\n",
       "        0.18307559, 0.03270606, 0.01087915,        inf,        inf],\n",
       "       [1.71999632, 1.71997953, 1.71982325, 1.71825455, 1.70265007,\n",
       "        1.55529781, 0.79425936, 0.24192881,        inf,        inf],\n",
       "       [       inf,        inf,        inf,        inf,        inf,\n",
       "               inf,        inf,        inf,        inf,        inf],\n",
       "       [       inf,        inf,        inf,        inf,        inf,\n",
       "               inf,        inf,        inf,        inf,        inf]])"
      ]
     },
     "execution_count": 248,
     "metadata": {},
     "output_type": "execute_result"
    }
   ],
   "source": [
    "table_reptile"
   ]
  },
  {
   "cell_type": "code",
   "execution_count": 249,
   "metadata": {},
   "outputs": [],
   "source": [
    "arg_min_r = np.argmin(table_reptile)\n",
    "arg_min_outer_r = int(arg_min_r / table_reptile.shape[1])\n",
    "arg_min_inner_r = arg_min_r % table_reptile.shape[1]"
   ]
  },
  {
   "cell_type": "code",
   "execution_count": 250,
   "metadata": {},
   "outputs": [
    {
     "data": {
      "text/plain": [
       "6"
      ]
     },
     "execution_count": 250,
     "metadata": {},
     "output_type": "execute_result"
    }
   ],
   "source": [
    "arg_min_outer_r"
   ]
  },
  {
   "cell_type": "code",
   "execution_count": 251,
   "metadata": {},
   "outputs": [
    {
     "data": {
      "text/plain": [
       "7"
      ]
     },
     "execution_count": 251,
     "metadata": {},
     "output_type": "execute_result"
    }
   ],
   "source": [
    "arg_min_inner_r"
   ]
  },
  {
   "cell_type": "code",
   "execution_count": 252,
   "metadata": {},
   "outputs": [],
   "source": [
    "best_reptile_outer = outer_loop_stepsizes[arg_min_outer_r]\n",
    "best_reptile_inner = inner_loop_stepsizes[arg_min_inner_r]"
   ]
  },
  {
   "cell_type": "code",
   "execution_count": 253,
   "metadata": {},
   "outputs": [
    {
     "data": {
      "text/plain": [
       "50000.0"
      ]
     },
     "execution_count": 253,
     "metadata": {},
     "output_type": "execute_result"
    }
   ],
   "source": [
    "best_reptile_outer"
   ]
  },
  {
   "cell_type": "code",
   "execution_count": 254,
   "metadata": {},
   "outputs": [
    {
     "data": {
      "text/plain": [
       "10000"
      ]
     },
     "execution_count": 254,
     "metadata": {},
     "output_type": "execute_result"
    }
   ],
   "source": [
    "best_reptile_inner"
   ]
  },
  {
   "cell_type": "markdown",
   "metadata": {},
   "source": [
    "## Explicit Mixture computations"
   ]
  },
  {
   "cell_type": "code",
   "execution_count": 83,
   "metadata": {},
   "outputs": [],
   "source": [
    "best_global_models_alpha = np.zeros(shape=(len(alphas), mixed_model.d))"
   ]
  },
  {
   "cell_type": "code",
   "execution_count": 84,
   "metadata": {},
   "outputs": [
    {
     "data": {
      "text/plain": [
       "(5, 5000500)"
      ]
     },
     "execution_count": 84,
     "metadata": {},
     "output_type": "execute_result"
    }
   ],
   "source": [
    "best_global_models_alpha.shape"
   ]
  },
  {
   "cell_type": "code",
   "execution_count": null,
   "metadata": {},
   "outputs": [],
   "source": [
    "# w_0 = np.zeros(mixed_model.d)\n",
    "# epochs = 500\n",
    "# task_batch = 'full'\n",
    "# data_batch = 'full'\n",
    "# mixed_model.compute_smoothness_min = False"
   ]
  },
  {
   "cell_type": "code",
   "execution_count": 85,
   "metadata": {},
   "outputs": [],
   "source": [
    "L_max = max(mixed_model.l_s)"
   ]
  },
  {
   "cell_type": "code",
   "execution_count": 86,
   "metadata": {},
   "outputs": [
    {
     "data": {
      "text/plain": [
       "0.3"
      ]
     },
     "execution_count": 86,
     "metadata": {},
     "output_type": "execute_result"
    }
   ],
   "source": [
    "L_max"
   ]
  },
  {
   "cell_type": "code",
   "execution_count": null,
   "metadata": {},
   "outputs": [],
   "source": [
    "class checker_modified_linear:\n",
    "    def __init__(self, input_size, output_size, alpha):\n",
    "        self.in_features = input_size\n",
    "        self.out_features = output_size\n",
    "        self.weight_shape = (input_size, output_size)\n",
    "        self.weigh_size = np.prod(self.weight_shape)\n",
    "        self.alpha = alpha\n",
    "        \n",
    "    def forward(self, x, w_local):\n",
    "        out = F.linear(x, w_local.view(*self.weight_shape).transpose(1, 0))\n",
    "        out = torch.sigmoid(out)\n",
    "        return out\n",
    "    \n",
    "    def __call__(self, *args, **kwargs):\n",
    "        return self.forward(*args, **kwargs)"
   ]
  },
  {
   "cell_type": "code",
   "execution_count": null,
   "metadata": {},
   "outputs": [],
   "source": [
    "# for i in range(80):\n",
    "#     worker = mixed_model.workers[i]\n",
    "#     print(np.linalg.norm(worker.grad(worker.x_train, worker.y_train, worker.w_opt)))"
   ]
  },
  {
   "cell_type": "code",
   "execution_count": 87,
   "metadata": {},
   "outputs": [],
   "source": [
    "n_iter = 50000"
   ]
  },
  {
   "cell_type": "code",
   "execution_count": 89,
   "metadata": {},
   "outputs": [],
   "source": [
    "tolerance = 1e-15"
   ]
  },
  {
   "cell_type": "code",
   "execution_count": null,
   "metadata": {},
   "outputs": [],
   "source": [
    "# for counter_alpha, alpha in enumerate(alphas):\n",
    "#     w_global_numpy = np.zeros(shape=net.weigh_size)\n",
    "#     w_global = torch.Tensor(w_global_numpy).view(in_features, out_features).transpose(1, 0).requires_grad_(True)\n",
    "#     net = modified_linear(input_size, d_y, alpha)\n",
    "#     print_every = 5\n",
    "#     success_flag = False\n",
    "#     grad_norm = None\n",
    "#     for i in range(n_iter):\n",
    "#         for worker_counter in range(mixed_model.n_workers):\n",
    "#             out = net(x_trains[worker_counter], w_global, w_opts[worker_counter])\n",
    "#             loss = criterion(out, y_trains[worker_counter])\n",
    "#             loss.backward()\n",
    "#         grad_norm = torch.norm(w_global.grad / mixed_model.n_workers)\n",
    "#         print('{} / {} grad_norm {}'.format(i, n_iter, grad_norm), end='\\r')\n",
    "#         if grad_norm < tolerance:\n",
    "#             success_flag = True\n",
    "#             best_global_models_alpha[counter_alpha] = w_global_numpy\n",
    "#         with torch.no_grad():\n",
    "#             w_global -= stepsize * w_global.grad / mixed_model.n_workers\n",
    "#         w_global.grad = None\n",
    "#     if not success_flag:\n",
    "#         best_global_models_alpha[counter_alpha] = w_global_numpy        "
   ]
  },
  {
   "cell_type": "code",
   "execution_count": null,
   "metadata": {},
   "outputs": [
    {
     "name": "stdout",
     "output_type": "stream",
     "text": [
      "alpha = 0.2\n",
      "7978 / 50000 grad_norm 3.436526299083198e-077\r"
     ]
    }
   ],
   "source": [
    "for counter_alpha, alpha in enumerate(alphas):\n",
    "    print('alpha = {}'.format(alpha))\n",
    "    if counter_alpha == 0:\n",
    "        w_global_numpy = np.zeros(shape=param_size)\n",
    "    else:\n",
    "        w_global_numpy = copy.deepcopy(best_global_models_alpha[counter_alpha - 1]) # previous solution is a good starting point\n",
    "    w_global = torch.Tensor(w_global_numpy).view(in_features, out_features).transpose(1, 0).to('cuda').requires_grad_()\n",
    "    net = modified_linear(input_size, d_y, alpha)\n",
    "    print_every = 5\n",
    "    success_flag = False\n",
    "    grad_norm = None\n",
    "    stepsize = best_explicit_mixture_stepsizes[counter_alpha]\n",
    "    for i in range(n_iter):\n",
    "        [criterion(net(x_trains[i], w_global, w_opts[i]), y_trains[i]).backward() for i in range(n_workers)]\n",
    "        grad_norm = torch.norm(w_global.grad / mixed_model.n_workers)\n",
    "        print('{} / {} grad_norm {}'.format(i + 1, n_iter, grad_norm), end='\\r')\n",
    "        if grad_norm < tolerance:\n",
    "            success_flag = True\n",
    "            best_global_models_alpha[counter_alpha] = w_global.detach().cpu().numpy().reshape((-1), order='F')\n",
    "            break\n",
    "        with torch.no_grad():\n",
    "            w_global -= stepsize * w_global.grad / mixed_model.n_workers\n",
    "        w_global.grad = None\n",
    "    if not success_flag:\n",
    "        best_global_models_alpha[counter_alpha] = w_global.detach().cpu().numpy().reshape((-1), order='F')   \n",
    "    print('')"
   ]
  },
  {
   "cell_type": "code",
   "execution_count": null,
   "metadata": {},
   "outputs": [],
   "source": [
    "# # accelerated\n",
    "\n",
    "# for counter_alpha, alpha in enumerate(alphas):\n",
    "#     print('alpha = {}'.format(alpha))\n",
    "#     if counter_alpha == 0:\n",
    "#         w_global_numpy = np.zeros(shape=param_size)\n",
    "#     else:\n",
    "#         w_global_numpy = copy.deepcopy(best_global_models_alpha[counter_alpha - 1]) # previous solution is a good starting point\n",
    "#     w_global = torch.Tensor(w_global_numpy).view(in_features, out_features).transpose(1, 0).to('cuda').requires_grad_()\n",
    "#     y_global = w_global.clone()\n",
    "#     y_global_prev = w_global.clone()\n",
    "#     net = modified_linear(input_size, d_y, alpha)\n",
    "#     print_every = 5\n",
    "#     grad_norm = None\n",
    "#     stepsize = best_explicit_mixture_stepsizes[counter_alpha]\n",
    "#     for i in range(n_iter):\n",
    "#         [criterion(net(x_trains[i], w_global, w_opts[i]), y_trains[i]).backward() for i in range(n_workers)]\n",
    "#         grad_norm = torch.norm(w_global.grad / mixed_model.n_workers)\n",
    "#         print('{} / {} grad_norm {}'.format(i + 1, n_iter, grad_norm), end='\\r')\n",
    "#         if grad_norm < tolerance:\n",
    "#             break\n",
    "#         with torch.no_grad():\n",
    "#             y_global = w_global - stepsize * w_global.grad / mixed_model.n_workers\n",
    "#             w_global = y_global + (i / (i + 3)) * (y_global - y_global_prev)\n",
    "#             y_global_prev = y_global.clone()\n",
    "#         w_global.grad = None\n",
    "#         w_global.requires_grad_(True)\n",
    "#     best_global_models_alpha[counter_alpha] = w_global.detach().cpu().numpy().reshape((-1), order='F')   \n",
    "#     print('')"
   ]
  },
  {
   "cell_type": "code",
   "execution_count": null,
   "metadata": {},
   "outputs": [],
   "source": [
    "grads = []\n",
    "for worker_counter, worker in mixed_model.workers.items():\n",
    "    grads.append(worker.grad(worker.x_train, worker.y_train, 0.6 * best_global_models_alpha[2] + 0.4 * worker.w_opt))"
   ]
  },
  {
   "cell_type": "code",
   "execution_count": 94,
   "metadata": {},
   "outputs": [
    {
     "data": {
      "text/plain": [
       "'SO_LR_one_cluster_50'"
      ]
     },
     "execution_count": 94,
     "metadata": {},
     "output_type": "execute_result"
    }
   ],
   "source": [
    "exp_keyword"
   ]
  },
  {
   "cell_type": "code",
   "execution_count": null,
   "metadata": {},
   "outputs": [],
   "source": [
    "np.linalg.norm(np.mean(grads, axis=0)) * 0.6"
   ]
  },
  {
   "cell_type": "code",
   "execution_count": null,
   "metadata": {},
   "outputs": [],
   "source": [
    "exp_keyword"
   ]
  },
  {
   "cell_type": "code",
   "execution_count": 95,
   "metadata": {},
   "outputs": [],
   "source": [
    "with open('models/best_exp_mix_{}.npy'.format(exp_keyword), 'wb') as file:\n",
    "    np.save(file, best_global_models_alpha)"
   ]
  },
  {
   "cell_type": "code",
   "execution_count": null,
   "metadata": {},
   "outputs": [],
   "source": [
    "# for counter_alpha, alpha in enumerate(alphas):\n",
    "#     print('-----alpha = {}-----'.format(alpha))\n",
    "#     print('-----epochs = {}------'.format(epochs))\n",
    "#     print('-----task_batch = {}------'.format(task_batch))\n",
    "#     print('-----data_batch = {}------'.format(data_batch))\n",
    "#     start_time = time.time()\n",
    "#     mixed_model.sgd_mixed_outer_loop = 1.0 / (L_max * alpha ** 2)\n",
    "#     mixed_model.change_alpha(alpha)\n",
    "#     print('Changing specification took {} seconds.'.format(time.time() - start_time))\n",
    "#     start_time = time.time()\n",
    "#     print('Calculating the global model...')\n",
    "#     w = mixed_model.learning(model='expmix', w_0=w_0, epochs=epochs, task_batch=task_batch, data_batch=data_batch)\n",
    "#     print('Calculation took {} seconds.'.format(time.time() - start_time))\n",
    "#     best_global_models_alpha[counter_alpha, :] = w\n",
    "#     with open('best_explicit_mixture_model.npy', 'wb') as table_file:\n",
    "#         np.save(table_file, best_global_models_alpha)"
   ]
  },
  {
   "cell_type": "code",
   "execution_count": null,
   "metadata": {},
   "outputs": [],
   "source": [
    "# std_stdout = sys.stdout\n",
    "# with open('training_exp_mix.txt', 'w') as text_file:\n",
    "#     sys.stdout = text_file\n",
    "#     for counter_alpha, alpha in enumerate(alphas):\n",
    "#         print('-----alpha = {}-----'.format(alpha))\n",
    "#         print('-----epochs = {}------'.format(epochs))\n",
    "#         print('-----task_batch = {}------'.format(task_batch))\n",
    "#         print('-----data_batch = {}------'.format(data_batch))\n",
    "#         start_time = time.time()\n",
    "#         mixed_model.sgd_mixed_outer_loop = 1.0 / (L_max * alpha ** 2)\n",
    "#         mixed_model.change_alpha(alpha)\n",
    "#         print('Changing specification took {} seconds.'.format(time.time() - start_time))\n",
    "#         start_time = time.time()\n",
    "#         print('Calculating the global model...')\n",
    "#         w = mixed_model.learning(model='expmix', w_0=w_0, epochs=epochs, task_batch=task_batch, data_batch=data_batch)\n",
    "#         print('Calculation took {} seconds.'.format(time.time() - start_time))\n",
    "#         best_global_models_alpha[counter_alpha, :] = w\n",
    "#         with open('best_explicit_mixture_model.npy', 'wb') as table_file:\n",
    "#             np.save(table_file, best_global_models_alpha)\n",
    "#     sys.stdout = std_stdout"
   ]
  },
  {
   "cell_type": "code",
   "execution_count": null,
   "metadata": {},
   "outputs": [],
   "source": [
    "# std_stdout = sys.stdout\n",
    "# with open('training_exp_mix.txt', 'w') as text_file:\n",
    "#     sys.stdout = text_file\n",
    "#     for counter_alpha, alpha in enumerate(alphas):\n",
    "#         print('-----alpha = {}-----'.format(alpha))\n",
    "#         print('-----epochs = {}------'.format(epochs))\n",
    "#         print('-----task_batch = {}------'.format(task_batch))\n",
    "#         print('-----data_batch = {}------'.format(data_batch))\n",
    "#         start_time = time.time()\n",
    "#         mixed_model.sgd_mixed_outer_loop = best_explicit_mixture_stepsizes[counter_alpha]\n",
    "#         mixed_model.change_alpha(alpha)\n",
    "#         print('Changing specification took {} seconds.'.format(time.time() - start_time))\n",
    "#         start_time = time.time()\n",
    "#         print('Calculating the global model...')\n",
    "#         w = mixed_model.learning(model='expmix', w_0=w_0, epochs=epochs, task_batch=task_batch, data_batch=data_batch)\n",
    "#         print('Calculation took {} seconds.'.format(time.time() - start_time))\n",
    "#         best_global_models_alpha[counter_alpha, :] = w\n",
    "#         with open('best_explicit_mixture_model.npy', 'wb') as table_file:\n",
    "#             np.save(table_file, best_global_models_alpha)\n",
    "#     sys.stdout = std_stdout"
   ]
  },
  {
   "cell_type": "markdown",
   "metadata": {},
   "source": [
    "## FOMAML computations"
   ]
  },
  {
   "cell_type": "code",
   "execution_count": 213,
   "metadata": {},
   "outputs": [
    {
     "data": {
      "text/plain": [
       "50000.0"
      ]
     },
     "execution_count": 213,
     "metadata": {},
     "output_type": "execute_result"
    }
   ],
   "source": [
    "best_fomaml_outer"
   ]
  },
  {
   "cell_type": "code",
   "execution_count": 214,
   "metadata": {},
   "outputs": [
    {
     "data": {
      "text/plain": [
       "10000"
      ]
     },
     "execution_count": 214,
     "metadata": {},
     "output_type": "execute_result"
    }
   ],
   "source": [
    "best_fomaml_inner"
   ]
  },
  {
   "cell_type": "code",
   "execution_count": 215,
   "metadata": {},
   "outputs": [],
   "source": [
    "w_global = None\n",
    "w_locals = None\n",
    "out = None"
   ]
  },
  {
   "cell_type": "code",
   "execution_count": 216,
   "metadata": {},
   "outputs": [],
   "source": [
    "n_iter = 50000"
   ]
  },
  {
   "cell_type": "code",
   "execution_count": 217,
   "metadata": {},
   "outputs": [
    {
     "data": {
      "text/plain": [
       "<__main__.BasicLinear at 0x7f45e33bfc40>"
      ]
     },
     "execution_count": 217,
     "metadata": {},
     "output_type": "execute_result"
    }
   ],
   "source": [
    "net"
   ]
  },
  {
   "cell_type": "code",
   "execution_count": 218,
   "metadata": {},
   "outputs": [
    {
     "data": {
      "text/plain": [
       "torch.Size([50, 72, 10001])"
      ]
     },
     "execution_count": 218,
     "metadata": {},
     "output_type": "execute_result"
    }
   ],
   "source": [
    "x_trains_tr.shape"
   ]
  },
  {
   "cell_type": "code",
   "execution_count": 219,
   "metadata": {},
   "outputs": [],
   "source": [
    "w_global_numpy = np.zeros(shape=input_size * d_y)\n",
    "w_global = torch.Tensor(w_global_numpy).view(input_size, d_y).to('cuda').requires_grad_(False)\n",
    "w_locals = w_global.clone().detach().repeat(n_workers, 1, 1).to('cuda').requires_grad_()"
   ]
  },
  {
   "cell_type": "code",
   "execution_count": null,
   "metadata": {},
   "outputs": [
    {
     "name": "stdout",
     "output_type": "stream",
     "text": [
      "Iteration 37425 / 50000\r"
     ]
    }
   ],
   "source": [
    "w_global_numpy = np.zeros(shape=input_size * d_y)\n",
    "w_global = torch.Tensor(w_global_numpy).view(input_size, d_y).to('cuda').requires_grad_(False)\n",
    "w_locals = w_global.clone().detach().repeat(n_workers, 1, 1).to('cuda').requires_grad_()\n",
    "for i in range(n_iter):\n",
    "    print('Iteration {} / {}'.format(i + 1, n_iter), end='\\r')\n",
    "    for j in range(mixed_model.fomaml_number_of_inner_steps):\n",
    "        out = net(x_trains_tr, w_locals)\n",
    "        loss = criterion(out, y_trains_tr)\n",
    "        loss.backward()\n",
    "        with torch.no_grad():\n",
    "            w_locals -= best_fomaml_inner * mixed_model.n_workers * w_locals.grad\n",
    "        w_locals.grad = None\n",
    "    out = net(x_trains_val, w_locals)\n",
    "    loss = criterion(out, y_trains_val)\n",
    "    loss.backward()\n",
    "    with torch.no_grad():\n",
    "        w_global -= best_fomaml_outer * w_locals.grad.sum(axis=0)\n",
    "        w_locals[:] = w_global.clone().detach().repeat(n_workers, 1, 1).requires_grad_()\n",
    "        w_locals.grad = None\n",
    "best_fomaml_model = w_global.clone().detach().cpu().numpy().reshape((-1))        \n",
    "del w_global\n",
    "del w_locals\n",
    "del out\n",
    "torch.cuda.empty_cache()"
   ]
  },
  {
   "cell_type": "code",
   "execution_count": 224,
   "metadata": {},
   "outputs": [],
   "source": [
    "with open('models/best_fomaml_{}.npy'.format(exp_keyword), 'wb') as file:\n",
    "    np.save(file, best_fomaml_model)"
   ]
  },
  {
   "cell_type": "markdown",
   "metadata": {},
   "source": [
    "## Reptile computations"
   ]
  },
  {
   "cell_type": "code",
   "execution_count": 255,
   "metadata": {},
   "outputs": [
    {
     "data": {
      "text/plain": [
       "10000"
      ]
     },
     "execution_count": 255,
     "metadata": {},
     "output_type": "execute_result"
    }
   ],
   "source": [
    "best_reptile_inner"
   ]
  },
  {
   "cell_type": "code",
   "execution_count": 256,
   "metadata": {},
   "outputs": [
    {
     "data": {
      "text/plain": [
       "50000.0"
      ]
     },
     "execution_count": 256,
     "metadata": {},
     "output_type": "execute_result"
    }
   ],
   "source": [
    "best_reptile_outer"
   ]
  },
  {
   "cell_type": "code",
   "execution_count": 257,
   "metadata": {},
   "outputs": [],
   "source": [
    "n_iter = 50000"
   ]
  },
  {
   "cell_type": "code",
   "execution_count": 258,
   "metadata": {},
   "outputs": [
    {
     "name": "stdout",
     "output_type": "stream",
     "text": [
      "Iteration 50000 / 50000\n"
     ]
    }
   ],
   "source": [
    "w_global_numpy = np.zeros(shape=input_size * d_y)\n",
    "w_global = torch.Tensor(w_global_numpy).view(input_size, d_y).to('cuda').requires_grad_(False)\n",
    "w_locals = w_global.clone().detach().repeat(n_workers, 1, 1).to('cuda').requires_grad_()\n",
    "for i in range(n_iter):\n",
    "    print('Iteration {} / {}'.format(i + 1, n_iter), end='\\r')\n",
    "    for j in range(mixed_model.reptile_number_of_inner_steps):\n",
    "        out = net(x_trains, w_locals)\n",
    "        loss = criterion(out, y_trains)\n",
    "        loss.backward()\n",
    "        with torch.no_grad():\n",
    "            w_locals -= best_reptile_inner * mixed_model.n_workers * w_locals.grad\n",
    "        w_locals.grad = None\n",
    "    with torch.no_grad():\n",
    "        w_global += best_reptile_outer * (w_locals - w_global).mean(axis=0) / inner_loop_stepsize / mixed_model.reptile_number_of_inner_steps\n",
    "        w_locals[:] = w_global.clone().detach().repeat(n_workers, 1, 1).requires_grad_()\n",
    "        w_locals.grad = None\n",
    "best_reptile_model = w_global.clone().detach().cpu().numpy().reshape((-1))        \n",
    "del w_global\n",
    "del w_locals\n",
    "del out\n",
    "torch.cuda.empty_cache()\n",
    "print('')"
   ]
  },
  {
   "cell_type": "code",
   "execution_count": 259,
   "metadata": {},
   "outputs": [],
   "source": [
    "with open('models/best_reptile_{}.npy'.format(exp_keyword), 'wb') as file:\n",
    "    np.save(file, best_reptile_model)"
   ]
  },
  {
   "cell_type": "code",
   "execution_count": 260,
   "metadata": {},
   "outputs": [
    {
     "data": {
      "text/plain": [
       "array([-3.744348 , -3.7586856, -3.8322275, ...,  0.       ,  0.       ,\n",
       "        0.       ], dtype=float32)"
      ]
     },
     "execution_count": 260,
     "metadata": {},
     "output_type": "execute_result"
    }
   ],
   "source": [
    "best_reptile_model"
   ]
  },
  {
   "cell_type": "markdown",
   "metadata": {},
   "source": [
    "# Performance on testing dataset"
   ]
  },
  {
   "cell_type": "code",
   "execution_count": null,
   "metadata": {},
   "outputs": [],
   "source": [
    "from sklearn.datasets import load_svmlight_file"
   ]
  },
  {
   "cell_type": "code",
   "execution_count": null,
   "metadata": {},
   "outputs": [],
   "source": [
    "from prep_data import load_data"
   ]
  },
  {
   "cell_type": "markdown",
   "metadata": {},
   "source": [
    "## FOMAML"
   ]
  },
  {
   "cell_type": "code",
   "execution_count": 225,
   "metadata": {},
   "outputs": [],
   "source": [
    "best_fomaml = np.load('models/best_fomaml_{}.npy'.format(exp_keyword))"
   ]
  },
  {
   "cell_type": "code",
   "execution_count": 226,
   "metadata": {},
   "outputs": [
    {
     "data": {
      "text/plain": [
       "(5000500,)"
      ]
     },
     "execution_count": 226,
     "metadata": {},
     "output_type": "execute_result"
    }
   ],
   "source": [
    "best_fomaml.shape"
   ]
  },
  {
   "cell_type": "code",
   "execution_count": 227,
   "metadata": {},
   "outputs": [
    {
     "data": {
      "text/plain": [
       "50000.0"
      ]
     },
     "execution_count": 227,
     "metadata": {},
     "output_type": "execute_result"
    }
   ],
   "source": [
    "best_fomaml_outer"
   ]
  },
  {
   "cell_type": "code",
   "execution_count": 228,
   "metadata": {},
   "outputs": [
    {
     "data": {
      "text/plain": [
       "10000"
      ]
     },
     "execution_count": 228,
     "metadata": {},
     "output_type": "execute_result"
    }
   ],
   "source": [
    "best_fomaml_inner"
   ]
  },
  {
   "cell_type": "code",
   "execution_count": 229,
   "metadata": {},
   "outputs": [],
   "source": [
    "std_out = sys.stdout\n",
    "with open('calc_fomaml_recall.txt', 'w') as file:\n",
    "    sys.stdout = file\n",
    "    fomaml_recall_at_5, _, _ = mixed_model.compute_recall_at_k_local(w=best_fomaml, \n",
    "                                                               counter_to_id=counter_to_id, \n",
    "                                                               stepsize=best_fomaml_inner,\n",
    "                                                               k=mixed_model.fomaml_number_of_inner_steps,\n",
    "                                                               prefix='{}_test'.format(exp_keyword))\n",
    "    sys.stdout = std_out"
   ]
  },
  {
   "cell_type": "code",
   "execution_count": 230,
   "metadata": {},
   "outputs": [
    {
     "data": {
      "text/plain": [
       "0.6220787"
      ]
     },
     "execution_count": 230,
     "metadata": {},
     "output_type": "execute_result"
    }
   ],
   "source": [
    "fomaml_recall_at_5"
   ]
  },
  {
   "cell_type": "markdown",
   "metadata": {},
   "source": [
    "## Reptile"
   ]
  },
  {
   "cell_type": "code",
   "execution_count": 261,
   "metadata": {},
   "outputs": [],
   "source": [
    "best_reptile = np.load('models/best_reptile_{}.npy'.format(exp_keyword))"
   ]
  },
  {
   "cell_type": "code",
   "execution_count": 262,
   "metadata": {},
   "outputs": [],
   "source": [
    "std_out = sys.stdout\n",
    "with open('calc_reptile_recall.txt', 'w') as file:\n",
    "    sys.stdout = file\n",
    "    reptile_recall_at_5, _, _ = mixed_model.compute_recall_at_k_local(w=best_reptile, \n",
    "                                                               counter_to_id=counter_to_id, \n",
    "                                                               stepsize=best_reptile_inner,\n",
    "                                                               k=mixed_model.reptile_number_of_inner_steps,\n",
    "                                                               prefix='{}_test'.format(exp_keyword))\n",
    "    sys.stdout = std_out"
   ]
  },
  {
   "cell_type": "code",
   "execution_count": 263,
   "metadata": {},
   "outputs": [
    {
     "data": {
      "text/plain": [
       "0.59155446"
      ]
     },
     "execution_count": 263,
     "metadata": {},
     "output_type": "execute_result"
    }
   ],
   "source": [
    "reptile_recall_at_5"
   ]
  },
  {
   "cell_type": "markdown",
   "metadata": {},
   "source": [
    "## Explicit Mixture"
   ]
  },
  {
   "cell_type": "code",
   "execution_count": 97,
   "metadata": {},
   "outputs": [
    {
     "data": {
      "text/plain": [
       "array([0.2, 0.4, 0.6, 0.8, 1. ])"
      ]
     },
     "execution_count": 97,
     "metadata": {},
     "output_type": "execute_result"
    }
   ],
   "source": [
    "alphas"
   ]
  },
  {
   "cell_type": "code",
   "execution_count": 98,
   "metadata": {},
   "outputs": [],
   "source": [
    "alphas = np.insert(alphas, 0, 0)"
   ]
  },
  {
   "cell_type": "code",
   "execution_count": 99,
   "metadata": {},
   "outputs": [
    {
     "data": {
      "text/plain": [
       "array([0. , 0.2, 0.4, 0.6, 0.8, 1. ])"
      ]
     },
     "execution_count": 99,
     "metadata": {},
     "output_type": "execute_result"
    }
   ],
   "source": [
    "alphas"
   ]
  },
  {
   "cell_type": "code",
   "execution_count": 100,
   "metadata": {},
   "outputs": [],
   "source": [
    "explicit_mixture_recall_at_5 = np.zeros(shape=len(alphas))"
   ]
  },
  {
   "cell_type": "code",
   "execution_count": 101,
   "metadata": {},
   "outputs": [
    {
     "data": {
      "text/plain": [
       "array([0., 0., 0., 0., 0., 0.])"
      ]
     },
     "execution_count": 101,
     "metadata": {},
     "output_type": "execute_result"
    }
   ],
   "source": [
    "explicit_mixture_recall_at_5"
   ]
  },
  {
   "cell_type": "code",
   "execution_count": 74,
   "metadata": {},
   "outputs": [],
   "source": [
    "with open('models/best_exp_mix_{}.npy'.format(exp_keyword), 'rb') as table_file:\n",
    "    best_explicit_mixture = np.load(table_file)"
   ]
  },
  {
   "cell_type": "code",
   "execution_count": 102,
   "metadata": {},
   "outputs": [],
   "source": [
    "best_explicit_mixture = copy.deepcopy(best_global_models_alpha)"
   ]
  },
  {
   "cell_type": "code",
   "execution_count": 103,
   "metadata": {},
   "outputs": [],
   "source": [
    "best_explicit_mixture = np.vstack((np.zeros_like(best_explicit_mixture[0]), best_explicit_mixture))"
   ]
  },
  {
   "cell_type": "code",
   "execution_count": 104,
   "metadata": {},
   "outputs": [
    {
     "data": {
      "text/plain": [
       "array([0., 0., 0., ..., 0., 0., 0.])"
      ]
     },
     "execution_count": 104,
     "metadata": {},
     "output_type": "execute_result"
    }
   ],
   "source": [
    "best_explicit_mixture[0]"
   ]
  },
  {
   "cell_type": "code",
   "execution_count": 105,
   "metadata": {},
   "outputs": [
    {
     "data": {
      "text/plain": [
       "(6, 5000500)"
      ]
     },
     "execution_count": 105,
     "metadata": {},
     "output_type": "execute_result"
    }
   ],
   "source": [
    "best_explicit_mixture.shape"
   ]
  },
  {
   "cell_type": "code",
   "execution_count": 106,
   "metadata": {},
   "outputs": [],
   "source": [
    "mixed_model.compute_smoothness_min = False\n",
    "for counter_alpha, alpha in enumerate(alphas):\n",
    "    mixed_model.change_alpha(alpha)\n",
    "    explicit_mixture_recall_at_5[counter_alpha], _, _ = mixed_model.compute_recall_at_k_mixture(w=best_explicit_mixture[counter_alpha],\n",
    "                                                                                          counter_to_id=counter_to_id,\n",
    "                                                                                          prefix='{}_test'.format(exp_keyword)\n",
    "                                                                                         )"
   ]
  },
  {
   "cell_type": "code",
   "execution_count": 107,
   "metadata": {},
   "outputs": [
    {
     "data": {
      "text/plain": [
       "array([0.88810211, 0.91022491, 0.90343767, 0.88003081, 0.83009869,\n",
       "       0.76780277])"
      ]
     },
     "execution_count": 107,
     "metadata": {},
     "output_type": "execute_result"
    }
   ],
   "source": [
    "explicit_mixture_recall_at_5"
   ]
  },
  {
   "cell_type": "markdown",
   "metadata": {},
   "source": [
    "# Plot"
   ]
  },
  {
   "cell_type": "code",
   "execution_count": 267,
   "metadata": {},
   "outputs": [
    {
     "data": {
      "image/png": "[encoded data removed]",
      "text/plain": [
       "<Figure size 432x288 with 1 Axes>"
      ]
     },
     "metadata": {
      "needs_background": "light"
     },
     "output_type": "display_data"
    }
   ],
   "source": [
    "plt.plot(alphas, explicit_mixture_recall_at_5, marker='d', markersize=10, label='FedMix')\n",
    "plt.plot(np.linspace(0, 1, 10), [fomaml_recall_at_5] * 10, label='FOMAML')\n",
    "plt.plot(np.linspace(0, 1, 10), [reptile_recall_at_5] * 10, label='Reptile')\n",
    "plt.ylabel('recall @ 5')\n",
    "plt.xlabel('alpha')\n",
    "# plt.title('Two clients, 100 workers')\n",
    "plt.title('50 clients')\n",
    "plt.xlim(0)\n",
    "# plt.ylim(0)\n",
    "# plt.ylim(bottom=0)\n",
    "plt.legend()\n",
    "plt.tight_layout()\n",
    "plt.savefig('plots/{}.pdf'.format(exp_keyword))"
   ]
  },
  {
   "cell_type": "code",
   "execution_count": null,
   "metadata": {},
   "outputs": [],
   "source": []
  }
 ],
 "metadata": {
  "kernelspec": {
   "display_name": "Python 3",
   "language": "python",
   "name": "python3"
  },
  "language_info": {
   "codemirror_mode": {
    "name": "ipython",
    "version": 3
   },
   "file_extension": ".py",
   "mimetype": "text/x-python",
   "name": "python",
   "nbconvert_exporter": "python",
   "pygments_lexer": "ipython3",
   "version": "3.8.8"
  }
 },
 "nbformat": 4,
 "nbformat_minor": 4
}
